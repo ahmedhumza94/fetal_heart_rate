{
 "cells": [
  {
   "cell_type": "markdown",
   "metadata": {},
   "source": [
    "## Import CTH-UHB Intrapartum CTG Records\n",
    "\n",
    "This notebook provides an example of importing a FHR and UC record from the open CTH-UHB Intrapartum database on PhysioNet. "
   ]
  },
  {
   "cell_type": "code",
   "execution_count": 4,
   "metadata": {},
   "outputs": [],
   "source": [
    "%matplotlib inline\n",
    "\n",
    "#Import the waveform database library\n",
    "import wfdb\n",
    "import numpy as np\n",
    "import re\n",
    "import matplotlib.pyplot as plt\n",
    "import pandas as pd\n",
    "import fhrpreproc as fhrpre\n",
    "from sklearn.tree import DecisionTreeClassifier\n",
    "from sklearn.model_selection import train_test_split\n",
    "from sklearn import tree\n",
    "import graphviz"
   ]
  },
  {
   "cell_type": "code",
   "execution_count": null,
   "metadata": {
    "collapsed": true
   },
   "outputs": [],
   "source": [
    "#Load Physionet databases recognized by the library\n",
    "dblist = wfdb.getdblist()"
   ]
  },
  {
   "cell_type": "code",
   "execution_count": null,
   "metadata": {
    "collapsed": true
   },
   "outputs": [],
   "source": [
    "#Print List of databases\n",
    "print (dblist)"
   ]
  },
  {
   "cell_type": "code",
   "execution_count": null,
   "metadata": {
    "collapsed": true,
    "scrolled": true
   },
   "outputs": [],
   "source": [
    "#Download the desired database to a local directory\n",
    "wfdb.dldatabase('ctu-uh b-ctgdb', '/Users/humza/Google Drive/nanodegree/machine-learning-master/projects/capstone/fetal_heart_rate/RawData', records = 'all', annotators = 'all',\n",
    "           keepsubdirs = True, overwrite = False)\n"
   ]
  },
  {
   "cell_type": "code",
   "execution_count": 5,
   "metadata": {
    "collapsed": true
   },
   "outputs": [],
   "source": [
    "#Set path to downloaded data\n",
    "path = '/Users/humza/Google Drive/nanodegree/machine-learning-master/projects/capstone/fetal_heart_rate/RawData'"
   ]
  },
  {
   "cell_type": "code",
   "execution_count": 6,
   "metadata": {},
   "outputs": [],
   "source": [
    "#Import List of Record Names without .hea extension\n",
    "\n",
    "data = pd.read_csv(\"RECORDS.csv\")\n",
    "recordList = data['RECORDS']\n"
   ]
  },
  {
   "cell_type": "code",
   "execution_count": null,
   "metadata": {
    "collapsed": true
   },
   "outputs": [],
   "source": [
    "#Create a record object by reading one subjects data\n",
    "record = wfdb.rdsamp(path + '/1002', sampfrom=0, sampto=None, channels=None,\n",
    "                physical=True, pbdir = None, m2s=True)\n"
   ]
  },
  {
   "cell_type": "code",
   "execution_count": 7,
   "metadata": {
    "scrolled": false
   },
   "outputs": [
    {
     "data": {
      "text/plain": [
       "136.17838225681228"
      ]
     },
     "metadata": {},
     "output_type": "display_data"
    },
    {
     "data": {
      "text/plain": [
       "15.069809395484015"
      ]
     },
     "metadata": {},
     "output_type": "display_data"
    },
    {
     "data": {
      "text/plain": [
       "4.7282608695652177"
      ]
     },
     "metadata": {},
     "output_type": "display_data"
    },
    {
     "data": {
      "text/plain": [
       "5.4637681159420293"
      ]
     },
     "metadata": {},
     "output_type": "display_data"
    },
    {
     "data": {
      "text/plain": [
       "77369252084442256.0"
      ]
     },
     "metadata": {},
     "output_type": "display_data"
    },
    {
     "data": {
      "text/plain": [
       "275.75447690912222"
      ]
     },
     "metadata": {},
     "output_type": "display_data"
    },
    {
     "data": {
      "text/plain": [
       "916.09760166251795"
      ]
     },
     "metadata": {},
     "output_type": "display_data"
    },
    {
     "data": {
      "text/plain": [
       "126.56267540162597"
      ]
     },
     "metadata": {},
     "output_type": "display_data"
    },
    {
     "data": {
      "text/plain": [
       "21.047043620707861"
      ]
     },
     "metadata": {},
     "output_type": "display_data"
    },
    {
     "data": {
      "text/plain": [
       "3.017994858611825"
      ]
     },
     "metadata": {},
     "output_type": "display_data"
    },
    {
     "data": {
      "text/plain": [
       "3.3341902313624678"
      ]
     },
     "metadata": {},
     "output_type": "display_data"
    },
    {
     "data": {
      "text/plain": [
       "1.1710814013854285e+36"
      ]
     },
     "metadata": {},
     "output_type": "display_data"
    },
    {
     "data": {
      "text/plain": [
       "138.22199671712897"
      ]
     },
     "metadata": {},
     "output_type": "display_data"
    },
    {
     "data": {
      "text/plain": [
       "299.57059619116154"
      ]
     },
     "metadata": {},
     "output_type": "display_data"
    }
   ],
   "source": [
    "index = 0\n",
    "pH = []\n",
    "delType = []\n",
    "\n",
    "FHRmeanStage1 = []\n",
    "FHRvarStage1 = []\n",
    "nAccStage1 = []\n",
    "nDecStage1 = []\n",
    "EnVLFStage1 = []\n",
    "EnLFStage1 = []\n",
    "EnHFStage1 = []\n",
    "\n",
    "FHRmeanStage2 = []\n",
    "FHRvarStage2 = []\n",
    "nAccStage2 = []\n",
    "nDecStage2 = []\n",
    "EnVLFStage2 = []\n",
    "EnLFStage2 = []\n",
    "EnHFStage2 = []\n",
    "\n",
    "for subject in recordList:\n",
    "    record = wfdb.rdsamp(path + '/' + str(subject), sampfrom=0, sampto=None, channels=None,\n",
    "                    physical=True, pbdir = None, m2s=True)\n",
    "    FHRpreproc = fhrpre.FHRpreproc(record)\n",
    "    FHRpreproc.parseHeader()\n",
    "    pH.append(FHRpreproc.pH)\n",
    "    delType.append(FHRpreproc.delType)\n",
    "    LaborSigs = FHRpreproc.sepLaborSigs()\n",
    "    \n",
    "    trimStage1 = FHRpreproc.trimSignal(LaborSigs[0],150)\n",
    "    compStage1 = FHRpreproc.compSignal(trimStage1)\n",
    "    FHRmeanStage1.append(FHRpreproc.calcFHRMean(compStage1))\n",
    "    FHRvarStage1.append(FHRpreproc.calcFHRVariability(compStage1))\n",
    "    nAccStage1.append(FHRpreproc.calcAcc(compStage1,FHRmeanStage1[index],15))\n",
    "    nDecStage1.append(FHRpreproc.calcDec(compStage1,FHRmeanStage1[index],15))\n",
    "    EnergyStage1 = FHRpreproc.calcEnergy(compStage1,FHRmeanStage1[index],0.03,0.15,0.5)\n",
    "    EnVLFStage1.append(EnergyStage1[0])\n",
    "    EnLFStage1.append(EnergyStage1[1])\n",
    "    EnHFStage1.append(EnergyStage1[2])\n",
    "    \n",
    "    compStage2 = FHRpreproc.compSignal(LaborSigs[2])\n",
    "    if len(compStage2) > 1200:\n",
    "        FHRmeanStage2.append(FHRpreproc.calcFHRMean(compStage2))\n",
    "        FHRvarStage2.append(FHRpreproc.calcFHRVariability(compStage2))\n",
    "    else:\n",
    "        FHRmeanStage2.append(np.nan)\n",
    "        FHRvarStage2.append(np.nan)\n",
    "    \n",
    "    if len(compStage2) > 1200:\n",
    "        nAccStage2.append(FHRpreproc.calcAcc(compStage2,FHRmeanStage2[index],15))\n",
    "        nDecStage2.append(FHRpreproc.calcDec(compStage2,FHRmeanStage2[index],15))\n",
    "        EnergyStage2 = FHRpreproc.calcEnergy(compStage2,FHRmeanStage2[index],0.03,0.15,0.5)\n",
    "        EnVLFStage2.append(EnergyStage2[0])\n",
    "        EnLFStage2.append(EnergyStage2[1])\n",
    "        EnHFStage2.append(EnergyStage2[2])\n",
    "    else:\n",
    "        nAccStage2.append(np.nan)\n",
    "        nDecStage2.append(np.nan)\n",
    "        EnVLFStage2.append(np.nan)\n",
    "        EnLFStage2.append(np.nan)\n",
    "        EnHFStage2.append(np.nan)\n",
    "    index = index + 1\n",
    "    \n",
    "display(np.mean(FHRmeanStage1),np.mean(FHRvarStage1))\n",
    "display(np.mean(nAccStage1),np.mean(nDecStage1),np.mean(EnVLFStage1),np.mean(EnLFStage1),np.mean(EnHFStage1))\n",
    "\n",
    "display(np.nanmean(FHRmeanStage2),np.nanmean(FHRvarStage2))\n",
    "display(np.nanmean(nAccStage2),np.nanmean(nDecStage2),np.nanmean(EnVLFStage2),np.nanmean(EnLFStage2),np.nanmean(EnHFStage2))\n",
    "\n"
   ]
  },
  {
   "cell_type": "code",
   "execution_count": 8,
   "metadata": {
    "scrolled": false
   },
   "outputs": [
    {
     "data": {
      "text/plain": [
       "417"
      ]
     },
     "metadata": {},
     "output_type": "display_data"
    },
    {
     "data": {
      "text/plain": [
       "274"
      ]
     },
     "metadata": {},
     "output_type": "display_data"
    },
    {
     "data": {
      "text/plain": [
       "691"
      ]
     },
     "metadata": {},
     "output_type": "display_data"
    }
   ],
   "source": [
    "labelStage1 = np.repeat(1,len(recordList))\n",
    "labelStage2 = np.repeat(2,len(recordList))\n",
    "\n",
    "Stage1FHRFeat = pd.DataFrame({'record': recordList,'pH': pH,'delType': delType,'FHRmean': FHRmeanStage1,\n",
    "                            'FHRvar':FHRvarStage1,'nAcc':nAccStage1,\n",
    "                            'nDec':nDecStage1,'EnVLF':EnVLFStage1,'EnLF':EnLFStage1,\n",
    "                            'EnHF':EnHFStage1,'StageLabel':labelStage1})\n",
    "\n",
    "Stage2FHRFeat = pd.DataFrame({'record': recordList,'pH': pH,'delType': delType,'FHRmean': FHRmeanStage2,\n",
    "                            'FHRvar':FHRvarStage2,'nAcc':nAccStage2,\n",
    "                            'nDec':nDecStage2,'EnVLF':EnVLFStage2,'EnLF':EnLFStage2,\n",
    "                            'EnHF':EnHFStage2,'StageLabel':labelStage2})\n",
    "\n",
    "\n",
    "\n",
    "include = Stage1FHRFeat[Stage1FHRFeat['pH']>7.14]\n",
    "include = include[include['delType']==1]\n",
    "include = include.dropna()\n",
    "display(len(include))\n",
    "\n",
    "include2 = Stage2FHRFeat[Stage1FHRFeat['pH']>7.14]\n",
    "include2 = include2[include2['delType']==1]\n",
    "include2 = include2.dropna()\n",
    "display(len(include2))\n",
    "\n",
    "combinedData = pd.concat([Stage1FHRFeat, Stage2FHRFeat], axis = 0)\n",
    "combinedData = combinedData[combinedData['pH']>7.14]\n",
    "combinedData = combinedData[combinedData['delType']==1]\n",
    "combinedData=combinedData.dropna()\n",
    "\n",
    "display(len(combinedData))\n",
    "\n",
    "X = combinedData.drop(['pH','delType','record','StageLabel','EnVLF'],axis=1)\n",
    "\n",
    "Y=combinedData['StageLabel']\n",
    "\n",
    "\n",
    "X_train, X_test, Y_train, Y_test = train_test_split(X, Y, test_size=0.2, random_state=42)"
   ]
  },
  {
   "cell_type": "code",
   "execution_count": 11,
   "metadata": {},
   "outputs": [
    {
     "data": {
      "image/svg+xml": [
       "<?xml version=\"1.0\" encoding=\"UTF-8\" standalone=\"no\"?>\n",
       "<!DOCTYPE svg PUBLIC \"-//W3C//DTD SVG 1.1//EN\"\n",
       " \"http://www.w3.org/Graphics/SVG/1.1/DTD/svg11.dtd\">\n",
       "<!-- Generated by graphviz version 2.40.1 (20161225.0304)\n",
       " -->\n",
       "<!-- Title: Tree Pages: 1 -->\n",
       "<svg width=\"704pt\" height=\"756pt\"\n",
       " viewBox=\"0.00 0.00 704.45 756.00\" xmlns=\"http://www.w3.org/2000/svg\" xmlns:xlink=\"http://www.w3.org/1999/xlink\">\n",
       "<g id=\"graph0\" class=\"graph\" transform=\"scale(1 1) rotate(0) translate(4 752)\">\n",
       "<title>Tree</title>\n",
       "<polygon fill=\"#ffffff\" stroke=\"transparent\" points=\"-4,4 -4,-752 700.4478,-752 700.4478,4 -4,4\"/>\n",
       "<!-- 0 -->\n",
       "<g id=\"node1\" class=\"node\">\n",
       "<title>0</title>\n",
       "<path fill=\"#e58139\" fill-opacity=\"0.305882\" stroke=\"#000000\" d=\"M284.87,-748C284.87,-748 181.4708,-748 181.4708,-748 175.4708,-748 169.4708,-742 169.4708,-736 169.4708,-736 169.4708,-682 169.4708,-682 169.4708,-676 175.4708,-670 181.4708,-670 181.4708,-670 284.87,-670 284.87,-670 290.87,-670 296.87,-676 296.87,-682 296.87,-682 296.87,-736 296.87,-736 296.87,-742 290.87,-748 284.87,-748\"/>\n",
       "<text text-anchor=\"start\" x=\"182.2427\" y=\"-732.8\" font-family=\"Helvetica,sans-Serif\" font-size=\"14.00\" fill=\"#000000\">EnHF ≤ 563.719</text>\n",
       "<text text-anchor=\"start\" x=\"196.7793\" y=\"-718.8\" font-family=\"Helvetica,sans-Serif\" font-size=\"14.00\" fill=\"#000000\">gini = 0.484</text>\n",
       "<text text-anchor=\"start\" x=\"187.4482\" y=\"-704.8\" font-family=\"Helvetica,sans-Serif\" font-size=\"14.00\" fill=\"#000000\">samples = 552</text>\n",
       "<text text-anchor=\"start\" x=\"177.3208\" y=\"-690.8\" font-family=\"Helvetica,sans-Serif\" font-size=\"14.00\" fill=\"#000000\">value = [326, 226]</text>\n",
       "<text text-anchor=\"start\" x=\"205.3516\" y=\"-676.8\" font-family=\"Helvetica,sans-Serif\" font-size=\"14.00\" fill=\"#000000\">class = 1</text>\n",
       "</g>\n",
       "<!-- 1 -->\n",
       "<g id=\"node2\" class=\"node\">\n",
       "<title>1</title>\n",
       "<path fill=\"#399de5\" stroke=\"#000000\" d=\"M204.2974,-627C204.2974,-627 116.0434,-627 116.0434,-627 110.0434,-627 104.0434,-621 104.0434,-615 104.0434,-615 104.0434,-575 104.0434,-575 104.0434,-569 110.0434,-563 116.0434,-563 116.0434,-563 204.2974,-563 204.2974,-563 210.2974,-563 216.2974,-569 216.2974,-575 216.2974,-575 216.2974,-615 216.2974,-615 216.2974,-621 210.2974,-627 204.2974,-627\"/>\n",
       "<text text-anchor=\"start\" x=\"131.5654\" y=\"-611.8\" font-family=\"Helvetica,sans-Serif\" font-size=\"14.00\" fill=\"#000000\">gini = 0.0</text>\n",
       "<text text-anchor=\"start\" x=\"114.4482\" y=\"-597.8\" font-family=\"Helvetica,sans-Serif\" font-size=\"14.00\" fill=\"#000000\">samples = 222</text>\n",
       "<text text-anchor=\"start\" x=\"112.1069\" y=\"-583.8\" font-family=\"Helvetica,sans-Serif\" font-size=\"14.00\" fill=\"#000000\">value = [0, 222]</text>\n",
       "<text text-anchor=\"start\" x=\"132.3516\" y=\"-569.8\" font-family=\"Helvetica,sans-Serif\" font-size=\"14.00\" fill=\"#000000\">class = 2</text>\n",
       "</g>\n",
       "<!-- 0&#45;&gt;1 -->\n",
       "<g id=\"edge1\" class=\"edge\">\n",
       "<title>0&#45;&gt;1</title>\n",
       "<path fill=\"none\" stroke=\"#000000\" d=\"M208.048,-669.7677C201.0186,-658.7904 193.3638,-646.8362 186.2788,-635.772\"/>\n",
       "<polygon fill=\"#000000\" stroke=\"#000000\" points=\"189.082,-633.6591 180.7418,-627.1252 183.187,-637.434 189.082,-633.6591\"/>\n",
       "<text text-anchor=\"middle\" x=\"175.3877\" y=\"-647.3451\" font-family=\"Helvetica,sans-Serif\" font-size=\"14.00\" fill=\"#000000\">True</text>\n",
       "</g>\n",
       "<!-- 2 -->\n",
       "<g id=\"node3\" class=\"node\">\n",
       "<title>2</title>\n",
       "<path fill=\"#e58139\" fill-opacity=\"0.988235\" stroke=\"#000000\" d=\"M368.0328,-634C368.0328,-634 246.308,-634 246.308,-634 240.308,-634 234.308,-628 234.308,-622 234.308,-622 234.308,-568 234.308,-568 234.308,-562 240.308,-556 246.308,-556 246.308,-556 368.0328,-556 368.0328,-556 374.0328,-556 380.0328,-562 380.0328,-568 380.0328,-568 380.0328,-622 380.0328,-622 380.0328,-628 374.0328,-634 368.0328,-634\"/>\n",
       "<text text-anchor=\"start\" x=\"242.2393\" y=\"-618.8\" font-family=\"Helvetica,sans-Serif\" font-size=\"14.00\" fill=\"#000000\">FHRmean ≤ 109.766</text>\n",
       "<text text-anchor=\"start\" x=\"270.7793\" y=\"-604.8\" font-family=\"Helvetica,sans-Serif\" font-size=\"14.00\" fill=\"#000000\">gini = 0.024</text>\n",
       "<text text-anchor=\"start\" x=\"261.4482\" y=\"-590.8\" font-family=\"Helvetica,sans-Serif\" font-size=\"14.00\" fill=\"#000000\">samples = 330</text>\n",
       "<text text-anchor=\"start\" x=\"259.1069\" y=\"-576.8\" font-family=\"Helvetica,sans-Serif\" font-size=\"14.00\" fill=\"#000000\">value = [326, 4]</text>\n",
       "<text text-anchor=\"start\" x=\"279.3516\" y=\"-562.8\" font-family=\"Helvetica,sans-Serif\" font-size=\"14.00\" fill=\"#000000\">class = 1</text>\n",
       "</g>\n",
       "<!-- 0&#45;&gt;2 -->\n",
       "<g id=\"edge2\" class=\"edge\">\n",
       "<title>0&#45;&gt;2</title>\n",
       "<path fill=\"none\" stroke=\"#000000\" d=\"M258.637,-669.7677C264.2765,-661.0798 270.3131,-651.7801 276.1463,-642.794\"/>\n",
       "<polygon fill=\"#000000\" stroke=\"#000000\" points=\"279.1478,-644.5981 281.6569,-634.3046 273.2764,-640.7868 279.1478,-644.5981\"/>\n",
       "<text text-anchor=\"middle\" x=\"286.8596\" y=\"-654.5573\" font-family=\"Helvetica,sans-Serif\" font-size=\"14.00\" fill=\"#000000\">False</text>\n",
       "</g>\n",
       "<!-- 3 -->\n",
       "<g id=\"node4\" class=\"node\">\n",
       "<title>3</title>\n",
       "<path fill=\"transparent\" stroke=\"#000000\" d=\"M295.0328,-520C295.0328,-520 173.308,-520 173.308,-520 167.308,-520 161.308,-514 161.308,-508 161.308,-508 161.308,-454 161.308,-454 161.308,-448 167.308,-442 173.308,-442 173.308,-442 295.0328,-442 295.0328,-442 301.0328,-442 307.0328,-448 307.0328,-454 307.0328,-454 307.0328,-508 307.0328,-508 307.0328,-514 301.0328,-520 295.0328,-520\"/>\n",
       "<text text-anchor=\"start\" x=\"169.2393\" y=\"-504.8\" font-family=\"Helvetica,sans-Serif\" font-size=\"14.00\" fill=\"#000000\">FHRmean ≤ 109.641</text>\n",
       "<text text-anchor=\"start\" x=\"205.5654\" y=\"-490.8\" font-family=\"Helvetica,sans-Serif\" font-size=\"14.00\" fill=\"#000000\">gini = 0.5</text>\n",
       "<text text-anchor=\"start\" x=\"196.2344\" y=\"-476.8\" font-family=\"Helvetica,sans-Serif\" font-size=\"14.00\" fill=\"#000000\">samples = 2</text>\n",
       "<text text-anchor=\"start\" x=\"193.8931\" y=\"-462.8\" font-family=\"Helvetica,sans-Serif\" font-size=\"14.00\" fill=\"#000000\">value = [1, 1]</text>\n",
       "<text text-anchor=\"start\" x=\"206.3516\" y=\"-448.8\" font-family=\"Helvetica,sans-Serif\" font-size=\"14.00\" fill=\"#000000\">class = 1</text>\n",
       "</g>\n",
       "<!-- 2&#45;&gt;3 -->\n",
       "<g id=\"edge3\" class=\"edge\">\n",
       "<title>2&#45;&gt;3</title>\n",
       "<path fill=\"none\" stroke=\"#000000\" d=\"M282.048,-555.7677C276.4847,-547.0798 270.5296,-537.7801 264.7753,-528.794\"/>\n",
       "<polygon fill=\"#000000\" stroke=\"#000000\" points=\"267.6793,-526.8386 259.3392,-520.3046 261.7844,-530.6135 267.6793,-526.8386\"/>\n",
       "</g>\n",
       "<!-- 6 -->\n",
       "<g id=\"node7\" class=\"node\">\n",
       "<title>6</title>\n",
       "<path fill=\"#e58139\" fill-opacity=\"0.992157\" stroke=\"#000000\" d=\"M425.2974,-520C425.2974,-520 337.0434,-520 337.0434,-520 331.0434,-520 325.0434,-514 325.0434,-508 325.0434,-508 325.0434,-454 325.0434,-454 325.0434,-448 331.0434,-442 337.0434,-442 337.0434,-442 425.2974,-442 425.2974,-442 431.2974,-442 437.2974,-448 437.2974,-454 437.2974,-454 437.2974,-508 437.2974,-508 437.2974,-514 431.2974,-520 425.2974,-520\"/>\n",
       "<text text-anchor=\"start\" x=\"344.769\" y=\"-504.8\" font-family=\"Helvetica,sans-Serif\" font-size=\"14.00\" fill=\"#000000\">nAcc ≤ 11.5</text>\n",
       "<text text-anchor=\"start\" x=\"344.7793\" y=\"-490.8\" font-family=\"Helvetica,sans-Serif\" font-size=\"14.00\" fill=\"#000000\">gini = 0.018</text>\n",
       "<text text-anchor=\"start\" x=\"335.4482\" y=\"-476.8\" font-family=\"Helvetica,sans-Serif\" font-size=\"14.00\" fill=\"#000000\">samples = 328</text>\n",
       "<text text-anchor=\"start\" x=\"333.1069\" y=\"-462.8\" font-family=\"Helvetica,sans-Serif\" font-size=\"14.00\" fill=\"#000000\">value = [325, 3]</text>\n",
       "<text text-anchor=\"start\" x=\"353.3516\" y=\"-448.8\" font-family=\"Helvetica,sans-Serif\" font-size=\"14.00\" fill=\"#000000\">class = 1</text>\n",
       "</g>\n",
       "<!-- 2&#45;&gt;6 -->\n",
       "<g id=\"edge6\" class=\"edge\">\n",
       "<title>2&#45;&gt;6</title>\n",
       "<path fill=\"none\" stroke=\"#000000\" d=\"M332.637,-555.7677C338.2765,-547.0798 344.3131,-537.7801 350.1463,-528.794\"/>\n",
       "<polygon fill=\"#000000\" stroke=\"#000000\" points=\"353.1478,-530.5981 355.6569,-520.3046 347.2764,-526.7868 353.1478,-530.5981\"/>\n",
       "</g>\n",
       "<!-- 4 -->\n",
       "<g id=\"node5\" class=\"node\">\n",
       "<title>4</title>\n",
       "<path fill=\"#e58139\" stroke=\"#000000\" d=\"M157.2261,-399C157.2261,-399 85.1147,-399 85.1147,-399 79.1147,-399 73.1147,-393 73.1147,-387 73.1147,-387 73.1147,-347 73.1147,-347 73.1147,-341 79.1147,-335 85.1147,-335 85.1147,-335 157.2261,-335 157.2261,-335 163.2261,-335 169.2261,-341 169.2261,-347 169.2261,-347 169.2261,-387 169.2261,-387 169.2261,-393 163.2261,-399 157.2261,-399\"/>\n",
       "<text text-anchor=\"start\" x=\"92.5654\" y=\"-383.8\" font-family=\"Helvetica,sans-Serif\" font-size=\"14.00\" fill=\"#000000\">gini = 0.0</text>\n",
       "<text text-anchor=\"start\" x=\"83.2344\" y=\"-369.8\" font-family=\"Helvetica,sans-Serif\" font-size=\"14.00\" fill=\"#000000\">samples = 1</text>\n",
       "<text text-anchor=\"start\" x=\"80.8931\" y=\"-355.8\" font-family=\"Helvetica,sans-Serif\" font-size=\"14.00\" fill=\"#000000\">value = [1, 0]</text>\n",
       "<text text-anchor=\"start\" x=\"93.3516\" y=\"-341.8\" font-family=\"Helvetica,sans-Serif\" font-size=\"14.00\" fill=\"#000000\">class = 1</text>\n",
       "</g>\n",
       "<!-- 3&#45;&gt;4 -->\n",
       "<g id=\"edge4\" class=\"edge\">\n",
       "<title>3&#45;&gt;4</title>\n",
       "<path fill=\"none\" stroke=\"#000000\" d=\"M195.2822,-441.7677C183.9703,-430.3556 171.6119,-417.8878 160.286,-406.4618\"/>\n",
       "<polygon fill=\"#000000\" stroke=\"#000000\" points=\"162.5394,-403.7634 153.0138,-399.1252 157.5679,-408.6913 162.5394,-403.7634\"/>\n",
       "</g>\n",
       "<!-- 5 -->\n",
       "<g id=\"node6\" class=\"node\">\n",
       "<title>5</title>\n",
       "<path fill=\"#399de5\" stroke=\"#000000\" d=\"M272.2261,-399C272.2261,-399 200.1147,-399 200.1147,-399 194.1147,-399 188.1147,-393 188.1147,-387 188.1147,-387 188.1147,-347 188.1147,-347 188.1147,-341 194.1147,-335 200.1147,-335 200.1147,-335 272.2261,-335 272.2261,-335 278.2261,-335 284.2261,-341 284.2261,-347 284.2261,-347 284.2261,-387 284.2261,-387 284.2261,-393 278.2261,-399 272.2261,-399\"/>\n",
       "<text text-anchor=\"start\" x=\"207.5654\" y=\"-383.8\" font-family=\"Helvetica,sans-Serif\" font-size=\"14.00\" fill=\"#000000\">gini = 0.0</text>\n",
       "<text text-anchor=\"start\" x=\"198.2344\" y=\"-369.8\" font-family=\"Helvetica,sans-Serif\" font-size=\"14.00\" fill=\"#000000\">samples = 1</text>\n",
       "<text text-anchor=\"start\" x=\"195.8931\" y=\"-355.8\" font-family=\"Helvetica,sans-Serif\" font-size=\"14.00\" fill=\"#000000\">value = [0, 1]</text>\n",
       "<text text-anchor=\"start\" x=\"208.3516\" y=\"-341.8\" font-family=\"Helvetica,sans-Serif\" font-size=\"14.00\" fill=\"#000000\">class = 2</text>\n",
       "</g>\n",
       "<!-- 3&#45;&gt;5 -->\n",
       "<g id=\"edge5\" class=\"edge\">\n",
       "<title>3&#45;&gt;5</title>\n",
       "<path fill=\"none\" stroke=\"#000000\" d=\"M234.8587,-441.7677C235.0417,-431.3338 235.2403,-420.0174 235.4262,-409.4215\"/>\n",
       "<polygon fill=\"#000000\" stroke=\"#000000\" points=\"238.9308,-409.1851 235.6068,-399.1252 231.9318,-409.0622 238.9308,-409.1851\"/>\n",
       "</g>\n",
       "<!-- 7 -->\n",
       "<g id=\"node8\" class=\"node\">\n",
       "<title>7</title>\n",
       "<path fill=\"#e58139\" fill-opacity=\"0.992157\" stroke=\"#000000\" d=\"M440.0328,-406C440.0328,-406 318.308,-406 318.308,-406 312.308,-406 306.308,-400 306.308,-394 306.308,-394 306.308,-340 306.308,-340 306.308,-334 312.308,-328 318.308,-328 318.308,-328 440.0328,-328 440.0328,-328 446.0328,-328 452.0328,-334 452.0328,-340 452.0328,-340 452.0328,-394 452.0328,-394 452.0328,-400 446.0328,-406 440.0328,-406\"/>\n",
       "<text text-anchor=\"start\" x=\"314.2393\" y=\"-390.8\" font-family=\"Helvetica,sans-Serif\" font-size=\"14.00\" fill=\"#000000\">FHRmean ≤ 155.439</text>\n",
       "<text text-anchor=\"start\" x=\"342.7793\" y=\"-376.8\" font-family=\"Helvetica,sans-Serif\" font-size=\"14.00\" fill=\"#000000\">gini = 0.013</text>\n",
       "<text text-anchor=\"start\" x=\"333.4482\" y=\"-362.8\" font-family=\"Helvetica,sans-Serif\" font-size=\"14.00\" fill=\"#000000\">samples = 314</text>\n",
       "<text text-anchor=\"start\" x=\"331.1069\" y=\"-348.8\" font-family=\"Helvetica,sans-Serif\" font-size=\"14.00\" fill=\"#000000\">value = [312, 2]</text>\n",
       "<text text-anchor=\"start\" x=\"351.3516\" y=\"-334.8\" font-family=\"Helvetica,sans-Serif\" font-size=\"14.00\" fill=\"#000000\">class = 1</text>\n",
       "</g>\n",
       "<!-- 6&#45;&gt;7 -->\n",
       "<g id=\"edge7\" class=\"edge\">\n",
       "<title>6&#45;&gt;7</title>\n",
       "<path fill=\"none\" stroke=\"#000000\" d=\"M380.4821,-441.7677C380.3391,-433.6172 380.1867,-424.9283 380.0382,-416.4649\"/>\n",
       "<polygon fill=\"#000000\" stroke=\"#000000\" points=\"383.5349,-416.2417 379.86,-406.3046 376.536,-416.3645 383.5349,-416.2417\"/>\n",
       "</g>\n",
       "<!-- 16 -->\n",
       "<g id=\"node17\" class=\"node\">\n",
       "<title>16</title>\n",
       "<path fill=\"#e58139\" fill-opacity=\"0.921569\" stroke=\"#000000\" d=\"M583.8125,-406C583.8125,-406 482.5283,-406 482.5283,-406 476.5283,-406 470.5283,-400 470.5283,-394 470.5283,-394 470.5283,-340 470.5283,-340 470.5283,-334 476.5283,-328 482.5283,-328 482.5283,-328 583.8125,-328 583.8125,-328 589.8125,-328 595.8125,-334 595.8125,-340 595.8125,-340 595.8125,-394 595.8125,-394 595.8125,-400 589.8125,-406 583.8125,-406\"/>\n",
       "<text text-anchor=\"start\" x=\"478.3496\" y=\"-390.8\" font-family=\"Helvetica,sans-Serif\" font-size=\"14.00\" fill=\"#000000\">EnHF ≤ 1068.563</text>\n",
       "<text text-anchor=\"start\" x=\"496.7793\" y=\"-376.8\" font-family=\"Helvetica,sans-Serif\" font-size=\"14.00\" fill=\"#000000\">gini = 0.133</text>\n",
       "<text text-anchor=\"start\" x=\"491.3413\" y=\"-362.8\" font-family=\"Helvetica,sans-Serif\" font-size=\"14.00\" fill=\"#000000\">samples = 14</text>\n",
       "<text text-anchor=\"start\" x=\"489\" y=\"-348.8\" font-family=\"Helvetica,sans-Serif\" font-size=\"14.00\" fill=\"#000000\">value = [13, 1]</text>\n",
       "<text text-anchor=\"start\" x=\"505.3516\" y=\"-334.8\" font-family=\"Helvetica,sans-Serif\" font-size=\"14.00\" fill=\"#000000\">class = 1</text>\n",
       "</g>\n",
       "<!-- 6&#45;&gt;16 -->\n",
       "<g id=\"edge16\" class=\"edge\">\n",
       "<title>6&#45;&gt;16</title>\n",
       "<path fill=\"none\" stroke=\"#000000\" d=\"M433.4802,-441.7677C446.2099,-432.2204 459.9248,-421.9342 472.9874,-412.1373\"/>\n",
       "<polygon fill=\"#000000\" stroke=\"#000000\" points=\"475.1218,-414.9115 481.0218,-406.1115 470.9218,-409.3115 475.1218,-414.9115\"/>\n",
       "</g>\n",
       "<!-- 8 -->\n",
       "<g id=\"node9\" class=\"node\">\n",
       "<title>8</title>\n",
       "<path fill=\"#e58139\" fill-opacity=\"0.996078\" stroke=\"#000000\" d=\"M278.7026,-292C278.7026,-292 187.6382,-292 187.6382,-292 181.6382,-292 175.6382,-286 175.6382,-280 175.6382,-280 175.6382,-226 175.6382,-226 175.6382,-220 181.6382,-214 187.6382,-214 187.6382,-214 278.7026,-214 278.7026,-214 284.7026,-214 290.7026,-220 290.7026,-226 290.7026,-226 290.7026,-280 290.7026,-280 290.7026,-286 284.7026,-292 278.7026,-292\"/>\n",
       "<text text-anchor=\"start\" x=\"183.4048\" y=\"-276.8\" font-family=\"Helvetica,sans-Serif\" font-size=\"14.00\" fill=\"#000000\">EnLF ≤ 229.935</text>\n",
       "<text text-anchor=\"start\" x=\"196.7793\" y=\"-262.8\" font-family=\"Helvetica,sans-Serif\" font-size=\"14.00\" fill=\"#000000\">gini = 0.007</text>\n",
       "<text text-anchor=\"start\" x=\"187.4482\" y=\"-248.8\" font-family=\"Helvetica,sans-Serif\" font-size=\"14.00\" fill=\"#000000\">samples = 297</text>\n",
       "<text text-anchor=\"start\" x=\"185.1069\" y=\"-234.8\" font-family=\"Helvetica,sans-Serif\" font-size=\"14.00\" fill=\"#000000\">value = [296, 1]</text>\n",
       "<text text-anchor=\"start\" x=\"205.3516\" y=\"-220.8\" font-family=\"Helvetica,sans-Serif\" font-size=\"14.00\" fill=\"#000000\">class = 1</text>\n",
       "</g>\n",
       "<!-- 7&#45;&gt;8 -->\n",
       "<g id=\"edge8\" class=\"edge\">\n",
       "<title>7&#45;&gt;8</title>\n",
       "<path fill=\"none\" stroke=\"#000000\" d=\"M328.9255,-327.7677C316.8813,-318.3633 303.9189,-308.242 291.5416,-298.5775\"/>\n",
       "<polygon fill=\"#000000\" stroke=\"#000000\" points=\"293.5439,-295.7004 283.5079,-292.3046 289.2358,-301.2177 293.5439,-295.7004\"/>\n",
       "</g>\n",
       "<!-- 13 -->\n",
       "<g id=\"node14\" class=\"node\">\n",
       "<title>13</title>\n",
       "<path fill=\"#e58139\" fill-opacity=\"0.937255\" stroke=\"#000000\" d=\"M443.0328,-292C443.0328,-292 321.308,-292 321.308,-292 315.308,-292 309.308,-286 309.308,-280 309.308,-280 309.308,-226 309.308,-226 309.308,-220 315.308,-214 321.308,-214 321.308,-214 443.0328,-214 443.0328,-214 449.0328,-214 455.0328,-220 455.0328,-226 455.0328,-226 455.0328,-280 455.0328,-280 455.0328,-286 449.0328,-292 443.0328,-292\"/>\n",
       "<text text-anchor=\"start\" x=\"317.2393\" y=\"-276.8\" font-family=\"Helvetica,sans-Serif\" font-size=\"14.00\" fill=\"#000000\">FHRmean ≤ 157.179</text>\n",
       "<text text-anchor=\"start\" x=\"346.8115\" y=\"-262.8\" font-family=\"Helvetica,sans-Serif\" font-size=\"14.00\" fill=\"#000000\">gini = 0.111</text>\n",
       "<text text-anchor=\"start\" x=\"340.3413\" y=\"-248.8\" font-family=\"Helvetica,sans-Serif\" font-size=\"14.00\" fill=\"#000000\">samples = 17</text>\n",
       "<text text-anchor=\"start\" x=\"338\" y=\"-234.8\" font-family=\"Helvetica,sans-Serif\" font-size=\"14.00\" fill=\"#000000\">value = [16, 1]</text>\n",
       "<text text-anchor=\"start\" x=\"354.3516\" y=\"-220.8\" font-family=\"Helvetica,sans-Serif\" font-size=\"14.00\" fill=\"#000000\">class = 1</text>\n",
       "</g>\n",
       "<!-- 7&#45;&gt;13 -->\n",
       "<g id=\"edge13\" class=\"edge\">\n",
       "<title>7&#45;&gt;13</title>\n",
       "<path fill=\"none\" stroke=\"#000000\" d=\"M380.2028,-327.7677C380.4173,-319.6172 380.646,-310.9283 380.8687,-302.4649\"/>\n",
       "<polygon fill=\"#000000\" stroke=\"#000000\" points=\"384.3717,-302.3933 381.1361,-292.3046 377.3741,-302.2091 384.3717,-302.3933\"/>\n",
       "</g>\n",
       "<!-- 9 -->\n",
       "<g id=\"node10\" class=\"node\">\n",
       "<title>9</title>\n",
       "<path fill=\"#e58139\" fill-opacity=\"0.972549\" stroke=\"#000000\" d=\"M154.2398,-178C154.2398,-178 68.1011,-178 68.1011,-178 62.1011,-178 56.1011,-172 56.1011,-166 56.1011,-166 56.1011,-112 56.1011,-112 56.1011,-106 62.1011,-100 68.1011,-100 68.1011,-100 154.2398,-100 154.2398,-100 160.2398,-100 166.2398,-106 166.2398,-112 166.2398,-112 166.2398,-166 166.2398,-166 166.2398,-172 160.2398,-178 154.2398,-178\"/>\n",
       "<text text-anchor=\"start\" x=\"64.1357\" y=\"-162.8\" font-family=\"Helvetica,sans-Serif\" font-size=\"14.00\" fill=\"#000000\">EnHF ≤ 765.64</text>\n",
       "<text text-anchor=\"start\" x=\"74.7793\" y=\"-148.8\" font-family=\"Helvetica,sans-Serif\" font-size=\"14.00\" fill=\"#000000\">gini = 0.049</text>\n",
       "<text text-anchor=\"start\" x=\"69.3413\" y=\"-134.8\" font-family=\"Helvetica,sans-Serif\" font-size=\"14.00\" fill=\"#000000\">samples = 40</text>\n",
       "<text text-anchor=\"start\" x=\"67\" y=\"-120.8\" font-family=\"Helvetica,sans-Serif\" font-size=\"14.00\" fill=\"#000000\">value = [39, 1]</text>\n",
       "<text text-anchor=\"start\" x=\"83.3516\" y=\"-106.8\" font-family=\"Helvetica,sans-Serif\" font-size=\"14.00\" fill=\"#000000\">class = 1</text>\n",
       "</g>\n",
       "<!-- 8&#45;&gt;9 -->\n",
       "<g id=\"edge9\" class=\"edge\">\n",
       "<title>8&#45;&gt;9</title>\n",
       "<path fill=\"none\" stroke=\"#000000\" d=\"M191.1849,-213.7677C181.4082,-204.632 170.9073,-194.8198 160.834,-185.407\"/>\n",
       "<polygon fill=\"#000000\" stroke=\"#000000\" points=\"162.9295,-182.5748 153.2333,-178.3046 158.1503,-187.6894 162.9295,-182.5748\"/>\n",
       "</g>\n",
       "<!-- 12 -->\n",
       "<g id=\"node13\" class=\"node\">\n",
       "<title>12</title>\n",
       "<path fill=\"#e58139\" stroke=\"#000000\" d=\"M284.2974,-171C284.2974,-171 196.0434,-171 196.0434,-171 190.0434,-171 184.0434,-165 184.0434,-159 184.0434,-159 184.0434,-119 184.0434,-119 184.0434,-113 190.0434,-107 196.0434,-107 196.0434,-107 284.2974,-107 284.2974,-107 290.2974,-107 296.2974,-113 296.2974,-119 296.2974,-119 296.2974,-159 296.2974,-159 296.2974,-165 290.2974,-171 284.2974,-171\"/>\n",
       "<text text-anchor=\"start\" x=\"211.5654\" y=\"-155.8\" font-family=\"Helvetica,sans-Serif\" font-size=\"14.00\" fill=\"#000000\">gini = 0.0</text>\n",
       "<text text-anchor=\"start\" x=\"194.4482\" y=\"-141.8\" font-family=\"Helvetica,sans-Serif\" font-size=\"14.00\" fill=\"#000000\">samples = 257</text>\n",
       "<text text-anchor=\"start\" x=\"192.1069\" y=\"-127.8\" font-family=\"Helvetica,sans-Serif\" font-size=\"14.00\" fill=\"#000000\">value = [257, 0]</text>\n",
       "<text text-anchor=\"start\" x=\"212.3516\" y=\"-113.8\" font-family=\"Helvetica,sans-Serif\" font-size=\"14.00\" fill=\"#000000\">class = 1</text>\n",
       "</g>\n",
       "<!-- 8&#45;&gt;12 -->\n",
       "<g id=\"edge12\" class=\"edge\">\n",
       "<title>8&#45;&gt;12</title>\n",
       "<path fill=\"none\" stroke=\"#000000\" d=\"M235.5794,-213.7677C236.2201,-203.3338 236.915,-192.0174 237.5656,-181.4215\"/>\n",
       "<polygon fill=\"#000000\" stroke=\"#000000\" points=\"241.0783,-181.3209 238.1978,-171.1252 234.0914,-180.8919 241.0783,-181.3209\"/>\n",
       "</g>\n",
       "<!-- 10 -->\n",
       "<g id=\"node11\" class=\"node\">\n",
       "<title>10</title>\n",
       "<path fill=\"#e58139\" stroke=\"#000000\" d=\"M92.5118,-64C92.5118,-64 11.829,-64 11.829,-64 5.829,-64 -.171,-58 -.171,-52 -.171,-52 -.171,-12 -.171,-12 -.171,-6 5.829,0 11.829,0 11.829,0 92.5118,0 92.5118,0 98.5118,0 104.5118,-6 104.5118,-12 104.5118,-12 104.5118,-52 104.5118,-52 104.5118,-58 98.5118,-64 92.5118,-64\"/>\n",
       "<text text-anchor=\"start\" x=\"23.5654\" y=\"-48.8\" font-family=\"Helvetica,sans-Serif\" font-size=\"14.00\" fill=\"#000000\">gini = 0.0</text>\n",
       "<text text-anchor=\"start\" x=\"10.3413\" y=\"-34.8\" font-family=\"Helvetica,sans-Serif\" font-size=\"14.00\" fill=\"#000000\">samples = 39</text>\n",
       "<text text-anchor=\"start\" x=\"8\" y=\"-20.8\" font-family=\"Helvetica,sans-Serif\" font-size=\"14.00\" fill=\"#000000\">value = [39, 0]</text>\n",
       "<text text-anchor=\"start\" x=\"24.3516\" y=\"-6.8\" font-family=\"Helvetica,sans-Serif\" font-size=\"14.00\" fill=\"#000000\">class = 1</text>\n",
       "</g>\n",
       "<!-- 9&#45;&gt;10 -->\n",
       "<g id=\"edge10\" class=\"edge\">\n",
       "<title>9&#45;&gt;10</title>\n",
       "<path fill=\"none\" stroke=\"#000000\" d=\"M89.536,-99.7647C84.7519,-91.0884 79.67,-81.8721 74.8457,-73.123\"/>\n",
       "<polygon fill=\"#000000\" stroke=\"#000000\" points=\"77.8285,-71.2838 69.9349,-64.2169 71.6986,-74.6639 77.8285,-71.2838\"/>\n",
       "</g>\n",
       "<!-- 11 -->\n",
       "<g id=\"node12\" class=\"node\">\n",
       "<title>11</title>\n",
       "<path fill=\"#399de5\" stroke=\"#000000\" d=\"M206.2261,-64C206.2261,-64 134.1147,-64 134.1147,-64 128.1147,-64 122.1147,-58 122.1147,-52 122.1147,-52 122.1147,-12 122.1147,-12 122.1147,-6 128.1147,0 134.1147,0 134.1147,0 206.2261,0 206.2261,0 212.2261,0 218.2261,-6 218.2261,-12 218.2261,-12 218.2261,-52 218.2261,-52 218.2261,-58 212.2261,-64 206.2261,-64\"/>\n",
       "<text text-anchor=\"start\" x=\"141.5654\" y=\"-48.8\" font-family=\"Helvetica,sans-Serif\" font-size=\"14.00\" fill=\"#000000\">gini = 0.0</text>\n",
       "<text text-anchor=\"start\" x=\"132.2344\" y=\"-34.8\" font-family=\"Helvetica,sans-Serif\" font-size=\"14.00\" fill=\"#000000\">samples = 1</text>\n",
       "<text text-anchor=\"start\" x=\"129.8931\" y=\"-20.8\" font-family=\"Helvetica,sans-Serif\" font-size=\"14.00\" fill=\"#000000\">value = [0, 1]</text>\n",
       "<text text-anchor=\"start\" x=\"142.3516\" y=\"-6.8\" font-family=\"Helvetica,sans-Serif\" font-size=\"14.00\" fill=\"#000000\">class = 2</text>\n",
       "</g>\n",
       "<!-- 9&#45;&gt;11 -->\n",
       "<g id=\"edge11\" class=\"edge\">\n",
       "<title>9&#45;&gt;11</title>\n",
       "<path fill=\"none\" stroke=\"#000000\" d=\"M132.8048,-99.7647C137.589,-91.0884 142.6709,-81.8721 147.4951,-73.123\"/>\n",
       "<polygon fill=\"#000000\" stroke=\"#000000\" points=\"150.6422,-74.6639 152.406,-64.2169 144.5124,-71.2838 150.6422,-74.6639\"/>\n",
       "</g>\n",
       "<!-- 14 -->\n",
       "<g id=\"node15\" class=\"node\">\n",
       "<title>14</title>\n",
       "<path fill=\"transparent\" stroke=\"#000000\" d=\"M411.2261,-171C411.2261,-171 339.1147,-171 339.1147,-171 333.1147,-171 327.1147,-165 327.1147,-159 327.1147,-159 327.1147,-119 327.1147,-119 327.1147,-113 333.1147,-107 339.1147,-107 339.1147,-107 411.2261,-107 411.2261,-107 417.2261,-107 423.2261,-113 423.2261,-119 423.2261,-119 423.2261,-159 423.2261,-159 423.2261,-165 417.2261,-171 411.2261,-171\"/>\n",
       "<text text-anchor=\"start\" x=\"346.5654\" y=\"-155.8\" font-family=\"Helvetica,sans-Serif\" font-size=\"14.00\" fill=\"#000000\">gini = 0.5</text>\n",
       "<text text-anchor=\"start\" x=\"337.2344\" y=\"-141.8\" font-family=\"Helvetica,sans-Serif\" font-size=\"14.00\" fill=\"#000000\">samples = 2</text>\n",
       "<text text-anchor=\"start\" x=\"334.8931\" y=\"-127.8\" font-family=\"Helvetica,sans-Serif\" font-size=\"14.00\" fill=\"#000000\">value = [1, 1]</text>\n",
       "<text text-anchor=\"start\" x=\"347.3516\" y=\"-113.8\" font-family=\"Helvetica,sans-Serif\" font-size=\"14.00\" fill=\"#000000\">class = 1</text>\n",
       "</g>\n",
       "<!-- 13&#45;&gt;14 -->\n",
       "<g id=\"edge14\" class=\"edge\">\n",
       "<title>13&#45;&gt;14</title>\n",
       "<path fill=\"none\" stroke=\"#000000\" d=\"M379.7614,-213.7677C379.1207,-203.3338 378.4259,-192.0174 377.7752,-181.4215\"/>\n",
       "<polygon fill=\"#000000\" stroke=\"#000000\" points=\"381.2494,-180.8919 377.143,-171.1252 374.2626,-181.3209 381.2494,-180.8919\"/>\n",
       "</g>\n",
       "<!-- 15 -->\n",
       "<g id=\"node16\" class=\"node\">\n",
       "<title>15</title>\n",
       "<path fill=\"#e58139\" stroke=\"#000000\" d=\"M533.5118,-171C533.5118,-171 452.829,-171 452.829,-171 446.829,-171 440.829,-165 440.829,-159 440.829,-159 440.829,-119 440.829,-119 440.829,-113 446.829,-107 452.829,-107 452.829,-107 533.5118,-107 533.5118,-107 539.5118,-107 545.5118,-113 545.5118,-119 545.5118,-119 545.5118,-159 545.5118,-159 545.5118,-165 539.5118,-171 533.5118,-171\"/>\n",
       "<text text-anchor=\"start\" x=\"464.5654\" y=\"-155.8\" font-family=\"Helvetica,sans-Serif\" font-size=\"14.00\" fill=\"#000000\">gini = 0.0</text>\n",
       "<text text-anchor=\"start\" x=\"451.3413\" y=\"-141.8\" font-family=\"Helvetica,sans-Serif\" font-size=\"14.00\" fill=\"#000000\">samples = 15</text>\n",
       "<text text-anchor=\"start\" x=\"449\" y=\"-127.8\" font-family=\"Helvetica,sans-Serif\" font-size=\"14.00\" fill=\"#000000\">value = [15, 0]</text>\n",
       "<text text-anchor=\"start\" x=\"465.3516\" y=\"-113.8\" font-family=\"Helvetica,sans-Serif\" font-size=\"14.00\" fill=\"#000000\">class = 1</text>\n",
       "</g>\n",
       "<!-- 13&#45;&gt;15 -->\n",
       "<g id=\"edge15\" class=\"edge\">\n",
       "<title>13&#45;&gt;15</title>\n",
       "<path fill=\"none\" stroke=\"#000000\" d=\"M420.3703,-213.7677C431.482,-202.3556 443.6217,-189.8878 454.7471,-178.4618\"/>\n",
       "<polygon fill=\"#000000\" stroke=\"#000000\" points=\"457.4221,-180.7316 461.8906,-171.1252 452.4068,-175.8483 457.4221,-180.7316\"/>\n",
       "</g>\n",
       "<!-- 17 -->\n",
       "<g id=\"node18\" class=\"node\">\n",
       "<title>17</title>\n",
       "<path fill=\"#e58139\" stroke=\"#000000\" d=\"M570.5118,-285C570.5118,-285 489.829,-285 489.829,-285 483.829,-285 477.829,-279 477.829,-273 477.829,-273 477.829,-233 477.829,-233 477.829,-227 483.829,-221 489.829,-221 489.829,-221 570.5118,-221 570.5118,-221 576.5118,-221 582.5118,-227 582.5118,-233 582.5118,-233 582.5118,-273 582.5118,-273 582.5118,-279 576.5118,-285 570.5118,-285\"/>\n",
       "<text text-anchor=\"start\" x=\"501.5654\" y=\"-269.8\" font-family=\"Helvetica,sans-Serif\" font-size=\"14.00\" fill=\"#000000\">gini = 0.0</text>\n",
       "<text text-anchor=\"start\" x=\"488.3413\" y=\"-255.8\" font-family=\"Helvetica,sans-Serif\" font-size=\"14.00\" fill=\"#000000\">samples = 13</text>\n",
       "<text text-anchor=\"start\" x=\"486\" y=\"-241.8\" font-family=\"Helvetica,sans-Serif\" font-size=\"14.00\" fill=\"#000000\">value = [13, 0]</text>\n",
       "<text text-anchor=\"start\" x=\"502.3516\" y=\"-227.8\" font-family=\"Helvetica,sans-Serif\" font-size=\"14.00\" fill=\"#000000\">class = 1</text>\n",
       "</g>\n",
       "<!-- 16&#45;&gt;17 -->\n",
       "<g id=\"edge17\" class=\"edge\">\n",
       "<title>16&#45;&gt;17</title>\n",
       "<path fill=\"none\" stroke=\"#000000\" d=\"M532.138,-327.7677C531.8634,-317.3338 531.5656,-306.0174 531.2868,-295.4215\"/>\n",
       "<polygon fill=\"#000000\" stroke=\"#000000\" points=\"534.7778,-295.0296 531.0158,-285.1252 527.7802,-295.2138 534.7778,-295.0296\"/>\n",
       "</g>\n",
       "<!-- 18 -->\n",
       "<g id=\"node19\" class=\"node\">\n",
       "<title>18</title>\n",
       "<path fill=\"#399de5\" stroke=\"#000000\" d=\"M684.2261,-285C684.2261,-285 612.1147,-285 612.1147,-285 606.1147,-285 600.1147,-279 600.1147,-273 600.1147,-273 600.1147,-233 600.1147,-233 600.1147,-227 606.1147,-221 612.1147,-221 612.1147,-221 684.2261,-221 684.2261,-221 690.2261,-221 696.2261,-227 696.2261,-233 696.2261,-233 696.2261,-273 696.2261,-273 696.2261,-279 690.2261,-285 684.2261,-285\"/>\n",
       "<text text-anchor=\"start\" x=\"619.5654\" y=\"-269.8\" font-family=\"Helvetica,sans-Serif\" font-size=\"14.00\" fill=\"#000000\">gini = 0.0</text>\n",
       "<text text-anchor=\"start\" x=\"610.2344\" y=\"-255.8\" font-family=\"Helvetica,sans-Serif\" font-size=\"14.00\" fill=\"#000000\">samples = 1</text>\n",
       "<text text-anchor=\"start\" x=\"607.8931\" y=\"-241.8\" font-family=\"Helvetica,sans-Serif\" font-size=\"14.00\" fill=\"#000000\">value = [0, 1]</text>\n",
       "<text text-anchor=\"start\" x=\"620.3516\" y=\"-227.8\" font-family=\"Helvetica,sans-Serif\" font-size=\"14.00\" fill=\"#000000\">class = 2</text>\n",
       "</g>\n",
       "<!-- 16&#45;&gt;18 -->\n",
       "<g id=\"edge18\" class=\"edge\">\n",
       "<title>16&#45;&gt;18</title>\n",
       "<path fill=\"none\" stroke=\"#000000\" d=\"M572.7469,-327.7677C584.259,-316.3556 596.8362,-303.8878 608.3625,-292.4618\"/>\n",
       "<polygon fill=\"#000000\" stroke=\"#000000\" points=\"611.1256,-294.651 615.7634,-285.1252 606.1975,-289.6797 611.1256,-294.651\"/>\n",
       "</g>\n",
       "</g>\n",
       "</svg>\n"
      ],
      "text/plain": [
       "<graphviz.files.Source at 0x10f2b6080>"
      ]
     },
     "execution_count": 11,
     "metadata": {},
     "output_type": "execute_result"
    }
   ],
   "source": [
    "DecTree = DecisionTreeClassifier()\n",
    "DecTree.fit(X_train,Y_train)\n",
    "P=DecTree.predict(X_test)\n",
    "DecTree.score(X_test,Y_test)\n",
    "\n",
    "dot=tree.export_graphviz(DecTree, out_file=None,\n",
    "    feature_names=X_train.columns,\n",
    "    class_names=\"12\",\n",
    "    filled=True, rounded=True,\n",
    "    special_characters=True)\n",
    "\n",
    "graph=graphviz.Source(dot)\n",
    "graph"
   ]
  },
  {
   "cell_type": "code",
   "execution_count": null,
   "metadata": {},
   "outputs": [],
   "source": [
    "#Use wfdb library to plot records\n",
    "wfdb.plotrec(record)"
   ]
  },
  {
   "cell_type": "code",
   "execution_count": null,
   "metadata": {},
   "outputs": [],
   "source": [
    "#Print and Gather some useful record characteristics\n",
    "#View sampling frequency\n",
    "print (record.fs)\n",
    "#FHR Signal Length\n",
    "#First column of p_signals is FHR\n",
    "siglen = len(record.p_signals[:,0])\n",
    "print(siglen)\n",
    "#std = np.std(a[:,0])\n",
    "#print(std)\n",
    "#a = np.mean(a[np.nonzero(a[:,0])])\n",
    "#print(a)\n",
    "\n",
    "headerInfo=record.comments\n",
    "#Isolate pH\n",
    "pHstring = headerInfo[2]\n",
    "pHmatch=re.search('pH\\s*(\\d+.\\d+)',pHstring)\n",
    "pHmatch2= re.search('pH\\s*(\\d+)',pHstring)\n",
    "if pHmatch:\n",
    "    pH = float(pHmatch.group(1))\n",
    "if pHmatch2:\n",
    "    ph = float(pHmatch2.group(1))\n",
    "    print(ph)\n",
    "print(\"ph found:\",ph)\n",
    "\n",
    "#Pos stage II- This is position in raw signal sample not an index of an array\n",
    "posStage2String = headerInfo[40]\n",
    "posStage2 = re.search('Pos. II.st.\\s*(\\d+)',posStage2String)\n",
    "if posStage2:\n",
    "    posStage2 = int(posStage2.group(1))\n",
    "print(\"Position of Stage II is:\",posStage2)\n",
    "\n",
    "#Delivery Type\n",
    "delTypeString = headerInfo[36]\n",
    "delType = re.search('Deliv. type\\s*(\\d+)',delTypeString)\n",
    "if delType:\n",
    "    delType = int(delType.group(1))\n",
    "print(\"Delivery Type is\",delType)"
   ]
  },
  {
   "cell_type": "code",
   "execution_count": null,
   "metadata": {},
   "outputs": [],
   "source": [
    "#Separate Stage I Signal\n",
    "Stage1Sig = record.p_signals[0:posStage2,0]\n",
    "Stage1len = len(Stage1Sig)\n",
    "#print(\"Length of Stage I is: \",Stage1len,\" datapoints and \", Stage1len)/4, \" sec\")))\n",
    "print(\"Length of Stage I is: %d datapoints and %.2f seconds\" % (Stage1len,Stage1len/4))\n",
    "#Separate Stage II Signal\n",
    "Stage2Sig = record.p_signals[posStage2:,0]\n",
    "Stage2len = len(Stage2Sig)\n",
    "print(\"Length of Stage 2 is: %d datapoints and %.2f seconds\" % (Stage2len,Stage2len/4))"
   ]
  },
  {
   "cell_type": "code",
   "execution_count": null,
   "metadata": {},
   "outputs": [],
   "source": [
    "#Set Time Length to remove samples from beginning or end of sample\n",
    "#This is time potentially confounding signal if equipment just started/ended acquisition\n",
    "\n",
    "#Define Excluded Time-Frame in seconds and number of samples\n",
    "excTimeFrameSecs = 150\n",
    "excTimeFrameSamp = 150*4\n",
    "#Compress by removing zero elements from each when a signal was not able to be acquired\n",
    "Stage1SigTrim = Stage1Sig[excTimeFrameSamp:]\n",
    "print(\"Stage I trimmed length is: %d datapoints and %.2f seconds\" % (len(Stage1SigTrim),len(Stage1SigTrim)/4))\n",
    "Stage2SigTrim = Stage2Sig[0:Stage2len-excTimeFrameSamp]\n",
    "print(\"Stage II trimmed length is: %d datapoints and %.2f seconds\" % (len(Stage2SigTrim),len(Stage2SigTrim)/4))\n",
    "\n",
    "#Compress each Signal by removing zero elements\n",
    "Stage1SigComp = Stage1SigTrim[np.nonzero(Stage1SigTrim)]\n",
    "Stage2SigComp = Stage2SigTrim[np.nonzero(Stage2SigTrim)]\n",
    "print(\"Stage I Compressed length is: %d datapoints and %.2f seconds\" % (len(Stage1SigComp),len(Stage1SigComp)/4))\n",
    "print(\"Stage II Compressed length is: %d datapoints and %.2f seconds\" % (len(Stage2SigComp),len(Stage2SigComp)/4))\n",
    "\n"
   ]
  },
  {
   "cell_type": "code",
   "execution_count": null,
   "metadata": {},
   "outputs": [],
   "source": [
    "Stage1FHRMean = np.mean(Stage1SigComp)\n",
    "Stage1HRV = np.std(Stage1SigComp)\n",
    "Stage2FHRMean = np.mean(Stage2SigComp)\n",
    "Stage2HRV = np.std(Stage2SigComp)\n",
    "\n",
    "print(\"Stage I Compressed Signal Mean: %.2f and HRV: %.2f\" % (Stage1FHRMean,Stage1HRV))\n",
    "print(\"Stage 2 Compressed Signal Mean: %.2f and HRV: %.2f\" % (Stage2FHRMean,Stage2HRV))\n"
   ]
  },
  {
   "cell_type": "code",
   "execution_count": null,
   "metadata": {},
   "outputs": [],
   "source": [
    "#Acceleration Detection Stage I\n",
    "\n",
    "#Calculation of acceleration minimum detection time in number of samples\n",
    "minAccDur = 15 #seconds\n",
    "minAccSamp = minAccDur*record.fs\n",
    "print(minAccSamp)\n",
    "\n",
    "count = 0\n",
    "prevCheck = 0\n",
    "nAcc = 0\n",
    "for i in range(len(Stage1SigComp)):\n",
    "    if Stage1SigComp[i] > (Stage1FHRMean+15):\n",
    "        count=count+1\n",
    "    #    print(count)\n",
    "    else:\n",
    "        if (count > minAccSamp):\n",
    "#            print(\"YES\")\n",
    "            nAcc = nAcc+1\n",
    "        count = 0       \n",
    "\n",
    "print(nAcc)\n",
    "\n"
   ]
  },
  {
   "cell_type": "code",
   "execution_count": null,
   "metadata": {},
   "outputs": [],
   "source": [
    "#Acceleration Detection Stage II\n",
    "\n",
    "#Calculation of acceleration minimum detection time in number of samples\n",
    "minAccDur = 15 #seconds\n",
    "minAccSamp = minAccDur*record.fs\n",
    "print(minAccSamp)\n",
    "\n",
    "count = 0\n",
    "prevCheck = 0\n",
    "nAcc = 0\n",
    "for i in range(len(Stage2SigComp)):\n",
    "    if Stage2SigComp[i] > (Stage2FHRMean+15):\n",
    "        count=count+1\n",
    "    #    print(count)\n",
    "    else:\n",
    "        if (count > minAccSamp):\n",
    "#            print(\"YES\")\n",
    "            nAcc = nAcc+1\n",
    "        count = 0       \n",
    "\n",
    "print(nAcc)"
   ]
  },
  {
   "cell_type": "code",
   "execution_count": null,
   "metadata": {},
   "outputs": [],
   "source": [
    "#Decelerations Detection Stage I\n",
    "\n",
    "#Calculation of acceleration minimum detection time in number of samples\n",
    "minAccDur = 15 #seconds\n",
    "minAccSamp = minAccDur*record.fs\n",
    "print(minAccSamp)\n",
    "\n",
    "count = 0\n",
    "prevCheck = 0\n",
    "nDec = 0\n",
    "for i in range(len(Stage1SigComp)):\n",
    "    if Stage1SigComp[i] < (Stage1FHRMean-15):\n",
    "        count=count+1\n",
    "    #    print(count)\n",
    "    else:\n",
    "        if (count > minAccSamp):\n",
    "#            print(\"YES\")\n",
    "            nDec = nDec+1\n",
    "        count = 0       \n",
    "\n",
    "print(nDec)"
   ]
  },
  {
   "cell_type": "code",
   "execution_count": null,
   "metadata": {},
   "outputs": [],
   "source": [
    "#Decelerations Detection Stage II\n",
    "\n",
    "#Calculation of acceleration minimum detection time in number of samples\n",
    "minAccDur = 15 #seconds\n",
    "minAccSamp = minAccDur*record.fs\n",
    "print(minAccSamp)\n",
    "\n",
    "count = 0\n",
    "prevCheck = 0\n",
    "nDec = 0\n",
    "for i in range(len(Stage2SigComp)):\n",
    "    if Stage2SigComp[i] < (Stage2FHRMean+15):\n",
    "        count=count+1\n",
    "    #    print(count)\n",
    "    else:\n",
    "        if (count > minAccSamp):\n",
    "#            print(\"YES\")\n",
    "            nDec = nDec+1\n",
    "        count = 0       \n",
    "\n",
    "print(nDec)"
   ]
  },
  {
   "cell_type": "code",
   "execution_count": null,
   "metadata": {},
   "outputs": [],
   "source": [
    "Fs = record.fs  # sampling rate\n",
    "Ts = 1.0/Fs # sampling interval\n",
    "n = len(Stage1SigComp) # length of the signal\n",
    "t = np.arange(0,n) # time vector\n",
    "k = np.arange(n)\n",
    "T = n/Fs\n",
    "frq = k/T # two sides frequency range\n",
    "frq = frq[range(int(n/2))] # one side frequency range\n",
    "Y = np.fft.fft(Stage1SigComp-Stage1FHRMean)/n # fft computing and normalization\n",
    "Y = abs(Y[range(int(n/2))])\n",
    "P = np.power(Y,Y)\n",
    "\n",
    "fig, ax = plt.subplots(2, 1)\n",
    "ax[0].plot(t,Stage1SigComp)\n",
    "ax[0].set_xlabel('Time')\n",
    "ax[0].set_ylabel('Amplitude')\n",
    "ax[1].plot(frq[1:],P[1:],'r') # plotting the spectrum\n",
    "ax[1].set_xlabel('Freq (Hz)')\n",
    "ax[1].set_ylabel('|Y(freq)|^2')\n",
    "\n",
    "#plt.plot(frq,Y)\n",
    "\n",
    "print(frq)\n",
    "\n",
    "VLFindex = np.argmax(frq>=0.03)\n",
    "print(VLFindex,frq[VLFindex])\n",
    "EnVLF = np.sum(P[0:VLFindex])\n",
    "\n",
    "LFindex = np.argmax(frq>=0.15)\n",
    "print(LFindex, frq[LFindex])\n",
    "EnLF = np.sum(P[VLFindex:LFindex])\n",
    "\n",
    "#HFindex = len(frq)\n",
    "HFindex = np.argmax(frq>=0.5)\n",
    "print(HFindex,frq[HFindex])\n",
    "EnHF = np.sum(P[LFindex:HFindex])\n",
    "\n",
    "print(frq[HFindex-1])\n",
    "print(EnVLF,EnLF,EnHF)"
   ]
  },
  {
   "cell_type": "code",
   "execution_count": null,
   "metadata": {
    "collapsed": true
   },
   "outputs": [],
   "source": []
  },
  {
   "cell_type": "code",
   "execution_count": null,
   "metadata": {},
   "outputs": [],
   "source": [
    "Fs = record.fs  # sampling rate\n",
    "Ts = 1.0/Fs # sampling interval\n",
    "n = len(Stage2SigComp) # length of the signal\n",
    "t = np.arange(0,n) # time vector\n",
    "k = np.arange(n)\n",
    "T = n/Fs\n",
    "frq = k/T # two sides frequency range\n",
    "frq = frq[range(int(n/2))] # one side frequency range\n",
    "Y = np.fft.fft(Stage2SigComp-Stage2FHRMean)/n # fft computing and normalization\n",
    "Y = Y[range(int(n/2))]\n",
    "fig, ax = plt.subplots(2, 1)\n",
    "ax[0].plot(t,Stage2SigComp)\n",
    "ax[0].set_xlabel('Time')\n",
    "ax[0].set_ylabel('Amplitude')\n",
    "ax[1].plot(frq,abs(np.power(Y,Y)),'r') # plotting the spectrum\n",
    "ax[1].set_xlabel('Freq (Hz)')\n",
    "ax[1].set_ylabel('|Y(freq)|')\n",
    "\n",
    "#plt.plot(frq,Y)\n",
    "\n",
    "VLFindex = np.argmax(frq>=0.03)\n",
    "print(VLFindex,frq[VLFindex])\n",
    "EnVLF = np.sum(P[0:VLFindex])\n",
    "\n",
    "LFindex = np.argmax(frq>=0.15)\n",
    "print(LFindex, frq[LFindex])\n",
    "EnLF = np.sum(P[VLFindex:LFindex])\n",
    "\n",
    "#HFindex = len(frq)\n",
    "HFindex = np.argmax(frq>=0.5)\n",
    "print(HFindex,frq[HFindex])\n",
    "EnHF = np.sum(P[LFindex:HFindex])\n",
    "\n",
    "print(frq[HFindex-1])\n",
    "print(EnVLF,EnLF,EnHF)"
   ]
  },
  {
   "cell_type": "code",
   "execution_count": null,
   "metadata": {
    "collapsed": true
   },
   "outputs": [],
   "source": []
  },
  {
   "cell_type": "code",
   "execution_count": null,
   "metadata": {},
   "outputs": [],
   "source": [
    "#List Signal Length\n",
    "print (record.siglen)\n",
    "#List record comment\n",
    "print (record.comments)"
   ]
  },
  {
   "cell_type": "code",
   "execution_count": null,
   "metadata": {
    "collapsed": true
   },
   "outputs": [],
   "source": [
    "#Alternate way of loading a record\n",
    "#Output signal as a numpy array, and a dictionary of fields describing signal\n",
    "sig, fields = wfdb.srdsamp(path + '/1003')"
   ]
  },
  {
   "cell_type": "code",
   "execution_count": null,
   "metadata": {
    "collapsed": true
   },
   "outputs": [],
   "source": [
    "#view length of FHR signal\n",
    "len(sig)"
   ]
  },
  {
   "cell_type": "code",
   "execution_count": null,
   "metadata": {
    "collapsed": true
   },
   "outputs": [],
   "source": [
    "#view dictionary\n",
    "fields"
   ]
  },
  {
   "cell_type": "code",
   "execution_count": null,
   "metadata": {
    "collapsed": true
   },
   "outputs": [],
   "source": [
    "#view the sampling frequency field\n",
    "fields['fs']"
   ]
  }
 ],
 "metadata": {
  "kernelspec": {
   "display_name": "fetal_heart_rate",
   "language": "python",
   "name": "fetal_heart_rate"
  },
  "language_info": {
   "codemirror_mode": {
    "name": "ipython",
    "version": 3
   },
   "file_extension": ".py",
   "mimetype": "text/x-python",
   "name": "python",
   "nbconvert_exporter": "python",
   "pygments_lexer": "ipython3",
   "version": "3.6.2"
  }
 },
 "nbformat": 4,
 "nbformat_minor": 2
}
