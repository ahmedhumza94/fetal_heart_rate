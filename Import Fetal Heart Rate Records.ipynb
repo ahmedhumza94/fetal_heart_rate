{
 "cells": [
  {
   "cell_type": "markdown",
   "metadata": {},
   "source": [
    "## Import CTH-UHB Intrapartum CTG Records\n",
    "\n",
    "This notebook provides an example of importing a FHR and UC record from the open CTH-UHB Intrapartum database on PhysioNet. "
   ]
  },
  {
   "cell_type": "code",
   "execution_count": 27,
   "metadata": {
    "collapsed": true
   },
   "outputs": [],
   "source": [
    "%matplotlib inline\n",
    "\n",
    "#Import the waveform database library\n",
    "import wfdb\n",
    "import numpy as np\n",
    "import re\n",
    "import matplotlib.pyplot as plt\n",
    "import pandas as pd"
   ]
  },
  {
   "cell_type": "code",
   "execution_count": null,
   "metadata": {
    "collapsed": true
   },
   "outputs": [],
   "source": [
    "#Load Physionet databases recognized by the library\n",
    "dblist = wfdb.getdblist()"
   ]
  },
  {
   "cell_type": "code",
   "execution_count": null,
   "metadata": {
    "collapsed": true
   },
   "outputs": [],
   "source": [
    "#Print List of databases\n",
    "print (dblist)"
   ]
  },
  {
   "cell_type": "code",
   "execution_count": null,
   "metadata": {
    "collapsed": true,
    "scrolled": true
   },
   "outputs": [],
   "source": [
    "#Download the desired database to a local directory\n",
    "wfdb.dldatabase('ctu-uhb-ctgdb', '/Users/humza/Google Drive/nanodegree/machine-learning-master/projects/capstone/fetal_heart_rate/RawData', records = 'all', annotators = 'all',\n",
    "           keepsubdirs = True, overwrite = False)\n"
   ]
  },
  {
   "cell_type": "code",
   "execution_count": 2,
   "metadata": {
    "collapsed": true
   },
   "outputs": [],
   "source": [
    "#Set path to downloaded data\n",
    "path = '/Users/humza/Google Drive/nanodegree/machine-learning-master/projects/capstone/fetal_heart_rate/RawData'"
   ]
  },
  {
   "cell_type": "code",
   "execution_count": 31,
   "metadata": {},
   "outputs": [
    {
     "data": {
      "text/plain": [
       "0      1001\n",
       "1      1002\n",
       "2      1003\n",
       "3      1004\n",
       "4      1005\n",
       "5      1006\n",
       "6      1007\n",
       "7      1008\n",
       "8      1009\n",
       "9      1010\n",
       "10     1011\n",
       "11     1012\n",
       "12     1013\n",
       "13     1014\n",
       "14     1015\n",
       "15     1016\n",
       "16     1017\n",
       "17     1018\n",
       "18     1019\n",
       "19     1020\n",
       "20     1021\n",
       "21     1022\n",
       "22     1023\n",
       "23     1024\n",
       "24     1025\n",
       "25     1026\n",
       "26     1027\n",
       "27     1028\n",
       "28     1029\n",
       "29     1030\n",
       "       ... \n",
       "522    2017\n",
       "523    2018\n",
       "524    2019\n",
       "525    2020\n",
       "526    2021\n",
       "527    2022\n",
       "528    2023\n",
       "529    2024\n",
       "530    2025\n",
       "531    2026\n",
       "532    2027\n",
       "533    2028\n",
       "534    2029\n",
       "535    2030\n",
       "536    2031\n",
       "537    2032\n",
       "538    2033\n",
       "539    2034\n",
       "540    2035\n",
       "541    2036\n",
       "542    2037\n",
       "543    2038\n",
       "544    2039\n",
       "545    2040\n",
       "546    2041\n",
       "547    2042\n",
       "548    2043\n",
       "549    2044\n",
       "550    2045\n",
       "551    2046\n",
       "Name: RECORDS, Length: 552, dtype: int64"
      ]
     },
     "metadata": {},
     "output_type": "display_data"
    }
   ],
   "source": [
    "#Import List of Record Names without .hea extension\n",
    "\n",
    "data = pd.read_csv(\"RECORDS.csv\")\n",
    "recordList = data['RECORDS']\n",
    "display(recordList)"
   ]
  },
  {
   "cell_type": "code",
   "execution_count": 3,
   "metadata": {
    "collapsed": true
   },
   "outputs": [],
   "source": [
    "#Create a record object by reading one subjects data\n",
    "record = wfdb.rdsamp(path + '/1033', sampfrom=0, sampto=None, channels=None,\n",
    "                physical=True, pbdir = None, m2s=True)\n"
   ]
  },
  {
   "cell_type": "code",
   "execution_count": null,
   "metadata": {},
   "outputs": [],
   "source": [
    "#Use wfdb library to plot records\n",
    "wfdb.plotrec(record)"
   ]
  },
  {
   "cell_type": "code",
   "execution_count": 4,
   "metadata": {},
   "outputs": [
    {
     "name": "stdout",
     "output_type": "stream",
     "text": [
      "4\n",
      "15600\n",
      "ph found: 7.0\n",
      "Position of Stage II is: 14400\n",
      "Delivery Type is 1\n"
     ]
    }
   ],
   "source": [
    "#Print and Gather some useful record characteristics\n",
    "#View sampling frequency\n",
    "print (record.fs)\n",
    "#FHR Signal Length\n",
    "#First column of p_signals is FHR\n",
    "siglen = len(record.p_signals[:,0])\n",
    "print(siglen)\n",
    "#std = np.std(a[:,0])\n",
    "#print(std)\n",
    "#a = np.mean(a[np.nonzero(a[:,0])])\n",
    "#print(a)\n",
    "\n",
    "headerInfo=record.comments\n",
    "#Isolate pH\n",
    "pHstring = headerInfo[2]\n",
    "pHmatch=re.search('pH\\s*(\\d+.\\d+)',pHstring)\n",
    "pHmatch2= re.search('pH\\s*(\\d+)',pHstring)\n",
    "if pHmatch:\n",
    "    pH = float(pHmatch.group(1))\n",
    "if pHmatch2:\n",
    "    ph = float(pHmatch2.group(1))\n",
    "print(\"ph found:\",ph)\n",
    "\n",
    "#Pos stage II- This is position in raw signal sample not an index of an array\n",
    "posStage2String = headerInfo[40]\n",
    "posStage2 = re.search('Pos. II.st.\\s*(\\d+)',posStage2String)\n",
    "if posStage2:\n",
    "    posStage2 = int(posStage2.group(1))\n",
    "print(\"Position of Stage II is:\",posStage2)\n",
    "\n",
    "#Delivery Type\n",
    "delTypeString = headerInfo[36]\n",
    "delType = re.search('Deliv. type\\s*(\\d+)',delTypeString)\n",
    "if delType:\n",
    "    delType = int(delType.group(1))\n",
    "print(\"Delivery Type is\",delType)"
   ]
  },
  {
   "cell_type": "code",
   "execution_count": 5,
   "metadata": {},
   "outputs": [
    {
     "name": "stdout",
     "output_type": "stream",
     "text": [
      "Length of Stage I is: 14400 datapoints and 3600.00 seconds\n",
      "Length of Stage 2 is: 1200 datapoints and 300.00 seconds\n"
     ]
    }
   ],
   "source": [
    "#Separate Stage I Signal\n",
    "Stage1Sig = record.p_signals[0:posStage2,0]\n",
    "Stage1len = len(Stage1Sig)\n",
    "#print(\"Length of Stage I is: \",Stage1len,\" datapoints and \", Stage1len)/4, \" sec\")))\n",
    "print(\"Length of Stage I is: %d datapoints and %.2f seconds\" % (Stage1len,Stage1len/4))\n",
    "#Separate Stage II Signal\n",
    "Stage2Sig = record.p_signals[posStage2:,0]\n",
    "Stage2len = len(Stage2Sig)\n",
    "print(\"Length of Stage 2 is: %d datapoints and %.2f seconds\" % (Stage2len,Stage2len/4))"
   ]
  },
  {
   "cell_type": "code",
   "execution_count": 6,
   "metadata": {},
   "outputs": [
    {
     "name": "stdout",
     "output_type": "stream",
     "text": [
      "Stage I trimmed length is: 13800 datapoints and 3450.00 seconds\n",
      "Stage II trimmed length is: 600 datapoints and 150.00 seconds\n",
      "Stage I Compressed length is: 13516 datapoints and 3379.00 seconds\n",
      "Stage II Compressed length is: 538 datapoints and 134.50 seconds\n"
     ]
    }
   ],
   "source": [
    "#Set Time Length to remove samples from beginning or end of sample\n",
    "#This is time potentially confounding signal if equipment just started/ended acquisition\n",
    "\n",
    "#Define Excluded Time-Frame in seconds and number of samples\n",
    "excTimeFrameSecs = 150\n",
    "excTimeFrameSamp = 150*4\n",
    "#Compress by removing zero elements from each when a signal was not able to be acquired\n",
    "Stage1SigTrim = Stage1Sig[excTimeFrameSamp:]\n",
    "print(\"Stage I trimmed length is: %d datapoints and %.2f seconds\" % (len(Stage1SigTrim),len(Stage1SigTrim)/4))\n",
    "Stage2SigTrim = Stage2Sig[0:Stage2len-excTimeFrameSamp]\n",
    "print(\"Stage II trimmed length is: %d datapoints and %.2f seconds\" % (len(Stage2SigTrim),len(Stage2SigTrim)/4))\n",
    "\n",
    "#Compress each Signal by removing zero elements\n",
    "Stage1SigComp = Stage1SigTrim[np.nonzero(Stage1SigTrim)]\n",
    "Stage2SigComp = Stage2SigTrim[np.nonzero(Stage2SigTrim)]\n",
    "print(\"Stage I Compressed length is: %d datapoints and %.2f seconds\" % (len(Stage1SigComp),len(Stage1SigComp)/4))\n",
    "print(\"Stage II Compressed length is: %d datapoints and %.2f seconds\" % (len(Stage2SigComp),len(Stage2SigComp)/4))\n",
    "\n"
   ]
  },
  {
   "cell_type": "code",
   "execution_count": 7,
   "metadata": {},
   "outputs": [
    {
     "name": "stdout",
     "output_type": "stream",
     "text": [
      "Stage I Compressed Signal Mean: 146.50 and HRV: 21.64\n",
      "Stage 2 Compressed Signal Mean: 111.11 and HRV: 16.60\n"
     ]
    }
   ],
   "source": [
    "Stage1FHRMean = np.mean(Stage1SigComp)\n",
    "Stage1HRV = np.std(Stage1SigComp)\n",
    "Stage2FHRMean = np.mean(Stage2SigComp)\n",
    "Stage2HRV = np.std(Stage2SigComp)\n",
    "\n",
    "print(\"Stage I Compressed Signal Mean: %.2f and HRV: %.2f\" % (Stage1FHRMean,Stage1HRV))\n",
    "print(\"Stage 2 Compressed Signal Mean: %.2f and HRV: %.2f\" % (Stage2FHRMean,Stage2HRV))\n"
   ]
  },
  {
   "cell_type": "code",
   "execution_count": 16,
   "metadata": {},
   "outputs": [
    {
     "name": "stdout",
     "output_type": "stream",
     "text": [
      "60\n",
      "YES\n",
      "YES\n",
      "YES\n",
      "YES\n",
      "YES\n",
      "YES\n",
      "YES\n",
      "YES\n",
      "YES\n",
      "YES\n",
      "YES\n",
      "11\n"
     ]
    }
   ],
   "source": [
    "#Acceleration Detection Stage I\n",
    "\n",
    "#Calculation of acceleration minimum detection time in number of samples\n",
    "minAccDur = 15 #seconds\n",
    "minAccSamp = minAccDur*record.fs\n",
    "print(minAccSamp)\n",
    "\n",
    "count = 0\n",
    "prevCheck = 0\n",
    "nAcc = 0\n",
    "for i in range(len(Stage1SigComp)):\n",
    "    if Stage1SigComp[i] > (Stage1FHRMean+15):\n",
    "        count=count+1\n",
    "    #    print(count)\n",
    "    else:\n",
    "        if (count > minAccSamp):\n",
    "#            print(\"YES\")\n",
    "            nAcc = nAcc+1\n",
    "        count = 0       \n",
    "\n",
    "print(nAcc)"
   ]
  },
  {
   "cell_type": "code",
   "execution_count": 23,
   "metadata": {},
   "outputs": [
    {
     "name": "stdout",
     "output_type": "stream",
     "text": [
      "60\n",
      "0\n"
     ]
    }
   ],
   "source": [
    "#Acceleration Detection Stage II\n",
    "\n",
    "#Calculation of acceleration minimum detection time in number of samples\n",
    "minAccDur = 15 #seconds\n",
    "minAccSamp = minAccDur*record.fs\n",
    "print(minAccSamp)\n",
    "\n",
    "count = 0\n",
    "prevCheck = 0\n",
    "nAcc = 0\n",
    "for i in range(len(Stage2SigComp)):\n",
    "    if Stage2SigComp[i] > (Stage2FHRMean+15):\n",
    "        count=count+1\n",
    "    #    print(count)\n",
    "    else:\n",
    "        if (count > minAccSamp):\n",
    "#            print(\"YES\")\n",
    "            nAcc = nAcc+1\n",
    "        count = 0       \n",
    "\n",
    "print(nAcc)"
   ]
  },
  {
   "cell_type": "code",
   "execution_count": 24,
   "metadata": {},
   "outputs": [
    {
     "name": "stdout",
     "output_type": "stream",
     "text": [
      "60\n",
      "36\n"
     ]
    }
   ],
   "source": [
    "#Decelerations Detection Stage I\n",
    "\n",
    "#Calculation of acceleration minimum detection time in number of samples\n",
    "minAccDur = 15 #seconds\n",
    "minAccSamp = minAccDur*record.fs\n",
    "print(minAccSamp)\n",
    "\n",
    "count = 0\n",
    "prevCheck = 0\n",
    "nDec = 0\n",
    "for i in range(len(Stage1SigComp)):\n",
    "    if Stage1SigComp[i] < (Stage1FHRMean+15):\n",
    "        count=count+1\n",
    "    #    print(count)\n",
    "    else:\n",
    "        if (count > minAccSamp):\n",
    "#            print(\"YES\")\n",
    "            nDec = nDec+1\n",
    "        count = 0       \n",
    "\n",
    "print(nDec)"
   ]
  },
  {
   "cell_type": "code",
   "execution_count": 25,
   "metadata": {},
   "outputs": [
    {
     "name": "stdout",
     "output_type": "stream",
     "text": [
      "60\n",
      "2\n"
     ]
    }
   ],
   "source": [
    "#Decelerations Detection Stage II\n",
    "\n",
    "#Calculation of acceleration minimum detection time in number of samples\n",
    "minAccDur = 15 #seconds\n",
    "minAccSamp = minAccDur*record.fs\n",
    "print(minAccSamp)\n",
    "\n",
    "count = 0\n",
    "prevCheck = 0\n",
    "nDec = 0\n",
    "for i in range(len(Stage2SigComp)):\n",
    "    if Stage2SigComp[i] < (Stage2FHRMean+15):\n",
    "        count=count+1\n",
    "    #    print(count)\n",
    "    else:\n",
    "        if (count > minAccSamp):\n",
    "#            print(\"YES\")\n",
    "            nDec = nDec+1\n",
    "        count = 0       \n",
    "\n",
    "print(nDec)"
   ]
  },
  {
   "cell_type": "code",
   "execution_count": 18,
   "metadata": {},
   "outputs": [
    {
     "name": "stdout",
     "output_type": "stream",
     "text": [
      "[  0.00000000e+00   2.95945546e-04   5.91891092e-04 ...,   1.99911216e+00\n",
      "   1.99940811e+00   1.99970405e+00]\n",
      "102 0.030186445694\n",
      "507 0.150044391832\n",
      "1690 0.500147972773\n",
      "0.499852027227\n",
      "14048.027101 305.040981209 1014.60307503\n"
     ]
    },
    {
     "data": {
      "image/png": "[encoded data removed]",
      "text/plain": [
       "<matplotlib.figure.Figure at 0x10d3ec668>"
      ]
     },
     "metadata": {},
     "output_type": "display_data"
    }
   ],
   "source": [
    "Fs = record.fs  # sampling rate\n",
    "Ts = 1.0/Fs # sampling interval\n",
    "n = len(Stage1SigComp) # length of the signal\n",
    "t = np.arange(0,n) # time vector\n",
    "k = np.arange(n)\n",
    "T = n/Fs\n",
    "frq = k/T # two sides frequency range\n",
    "frq = frq[range(int(n/2))] # one side frequency range\n",
    "Y = np.fft.fft(Stage1SigComp-Stage1FHRMean)/n # fft computing and normalization\n",
    "Y = abs(Y[range(int(n/2))])\n",
    "P = np.power(Y,Y)\n",
    "\n",
    "fig, ax = plt.subplots(2, 1)\n",
    "ax[0].plot(t,Stage1SigComp)\n",
    "ax[0].set_xlabel('Time')\n",
    "ax[0].set_ylabel('Amplitude')\n",
    "ax[1].plot(frq[1:],P[1:],'r') # plotting the spectrum\n",
    "ax[1].set_xlabel('Freq (Hz)')\n",
    "ax[1].set_ylabel('|Y(freq)|^2')\n",
    "\n",
    "#plt.plot(frq,Y)\n",
    "\n",
    "print(frq)\n",
    "\n",
    "VLFindex = np.argmax(frq>=0.03)\n",
    "print(VLFindex,frq[VLFindex])\n",
    "EnVLF = np.sum(P[0:VLFindex])\n",
    "\n",
    "LFindex = np.argmax(frq>=0.15)\n",
    "print(LFindex, frq[LFindex])\n",
    "EnLF = np.sum(P[VLFindex:LFindex])\n",
    "\n",
    "#HFindex = len(frq)\n",
    "HFindex = np.argmax(frq>=0.5)\n",
    "print(HFindex,frq[HFindex])\n",
    "EnHF = np.sum(P[LFindex:HFindex])\n",
    "\n",
    "print(frq[HFindex-1])\n",
    "print(EnVLF,EnLF,EnHF)"
   ]
  },
  {
   "cell_type": "code",
   "execution_count": null,
   "metadata": {
    "collapsed": true
   },
   "outputs": [],
   "source": []
  },
  {
   "cell_type": "code",
   "execution_count": 19,
   "metadata": {},
   "outputs": [
    {
     "name": "stdout",
     "output_type": "stream",
     "text": [
      "5 0.0371747211896\n",
      "21 0.156133828996\n",
      "68 0.505576208178\n",
      "0.498141263941\n",
      "13813.9533648 128.666613679 75.0807044374\n"
     ]
    },
    {
     "data": {
      "image/png": "[encoded data removed]",
      "text/plain": [
       "<matplotlib.figure.Figure at 0x10dcd6668>"
      ]
     },
     "metadata": {},
     "output_type": "display_data"
    }
   ],
   "source": [
    "Fs = record.fs  # sampling rate\n",
    "Ts = 1.0/Fs # sampling interval\n",
    "n = len(Stage2SigComp) # length of the signal\n",
    "t = np.arange(0,n) # time vector\n",
    "k = np.arange(n)\n",
    "T = n/Fs\n",
    "frq = k/T # two sides frequency range\n",
    "frq = frq[range(int(n/2))] # one side frequency range\n",
    "Y = np.fft.fft(Stage2SigComp-Stage2FHRMean)/n # fft computing and normalization\n",
    "Y = Y[range(int(n/2))]\n",
    "fig, ax = plt.subplots(2, 1)\n",
    "ax[0].plot(t,Stage2SigComp)\n",
    "ax[0].set_xlabel('Time')\n",
    "ax[0].set_ylabel('Amplitude')\n",
    "ax[1].plot(frq,abs(np.power(Y,Y)),'r') # plotting the spectrum\n",
    "ax[1].set_xlabel('Freq (Hz)')\n",
    "ax[1].set_ylabel('|Y(freq)|')\n",
    "\n",
    "#plt.plot(frq,Y)\n",
    "\n",
    "VLFindex = np.argmax(frq>=0.03)\n",
    "print(VLFindex,frq[VLFindex])\n",
    "EnVLF = np.sum(P[0:VLFindex])\n",
    "\n",
    "LFindex = np.argmax(frq>=0.15)\n",
    "print(LFindex, frq[LFindex])\n",
    "EnLF = np.sum(P[VLFindex:LFindex])\n",
    "\n",
    "#HFindex = len(frq)\n",
    "HFindex = np.argmax(frq>=0.5)\n",
    "print(HFindex,frq[HFindex])\n",
    "EnHF = np.sum(P[LFindex:HFindex])\n",
    "\n",
    "print(frq[HFindex-1])\n",
    "print(EnVLF,EnLF,EnHF)"
   ]
  },
  {
   "cell_type": "code",
   "execution_count": null,
   "metadata": {
    "collapsed": true
   },
   "outputs": [],
   "source": []
  },
  {
   "cell_type": "code",
   "execution_count": null,
   "metadata": {
    "collapsed": true
   },
   "outputs": [],
   "source": [
    "#List Signal Length\n",
    "print (record.siglen)\n",
    "#List record comment\n",
    "print (record.comments)"
   ]
  },
  {
   "cell_type": "code",
   "execution_count": null,
   "metadata": {
    "collapsed": true
   },
   "outputs": [],
   "source": [
    "#Alternate way of loading a record\n",
    "#Output signal as a numpy array, and a dictionary of fields describing signal\n",
    "sig, fields = wfdb.srdsamp(path + '/1003')"
   ]
  },
  {
   "cell_type": "code",
   "execution_count": null,
   "metadata": {
    "collapsed": true
   },
   "outputs": [],
   "source": [
    "#view length of FHR signal\n",
    "len(sig)"
   ]
  },
  {
   "cell_type": "code",
   "execution_count": null,
   "metadata": {
    "collapsed": true
   },
   "outputs": [],
   "source": [
    "#view dictionary\n",
    "fields"
   ]
  },
  {
   "cell_type": "code",
   "execution_count": null,
   "metadata": {
    "collapsed": true
   },
   "outputs": [],
   "source": [
    "#view the sampling frequency field\n",
    "fields['fs']"
   ]
  }
 ],
 "metadata": {
  "kernelspec": {
   "display_name": "fetal_heart_rate",
   "language": "python",
   "name": "fetal_heart_rate"
  },
  "language_info": {
   "codemirror_mode": {
    "name": "ipython",
    "version": 3
   },
   "file_extension": ".py",
   "mimetype": "text/x-python",
   "name": "python",
   "nbconvert_exporter": "python",
   "pygments_lexer": "ipython3",
   "version": "3.6.2"
  }
 },
 "nbformat": 4,
 "nbformat_minor": 2
}
