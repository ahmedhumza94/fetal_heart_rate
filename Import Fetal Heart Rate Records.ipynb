{
 "cells": [
  {
   "cell_type": "markdown",
   "metadata": {},
   "source": [
    "## Import CTH-UHB Intrapartum CTG Records\n",
    "\n",
    "This notebook provides an example of importing a FHR and UC record from the open CTH-UHB Intrapartum database on PhysioNet. "
   ]
  },
  {
   "cell_type": "code",
   "execution_count": 1,
   "metadata": {},
   "outputs": [],
   "source": [
    "%matplotlib inline\n",
    "\n",
    "#Import the waveform database library\n",
    "import wfdb\n",
    "import numpy as np\n",
    "import re\n",
    "import matplotlib.pyplot as plt\n",
    "import pandas as pd\n",
    "import fhrpreproc as fhrpre"
   ]
  },
  {
   "cell_type": "code",
   "execution_count": null,
   "metadata": {
    "collapsed": true
   },
   "outputs": [],
   "source": [
    "#Load Physionet databases recognized by the library\n",
    "dblist = wfdb.getdblist()"
   ]
  },
  {
   "cell_type": "code",
   "execution_count": null,
   "metadata": {
    "collapsed": true
   },
   "outputs": [],
   "source": [
    "#Print List of databases\n",
    "print (dblist)"
   ]
  },
  {
   "cell_type": "code",
   "execution_count": null,
   "metadata": {
    "collapsed": true,
    "scrolled": true
   },
   "outputs": [],
   "source": [
    "#Download the desired database to a local directory\n",
    "wfdb.dldatabase('ctu-uh b-ctgdb', '/Users/humza/Google Drive/nanodegree/machine-learning-master/projects/capstone/fetal_heart_rate/RawData', records = 'all', annotators = 'all',\n",
    "           keepsubdirs = True, overwrite = False)\n"
   ]
  },
  {
   "cell_type": "code",
   "execution_count": 2,
   "metadata": {
    "collapsed": true
   },
   "outputs": [],
   "source": [
    "#Set path to downloaded data\n",
    "path = '/Users/humza/Google Drive/nanodegree/machine-learning-master/projects/capstone/fetal_heart_rate/RawData'"
   ]
  },
  {
   "cell_type": "code",
   "execution_count": 3,
   "metadata": {},
   "outputs": [],
   "source": [
    "#Import List of Record Names without .hea extension\n",
    "\n",
    "data = pd.read_csv(\"RECORDS.csv\")\n",
    "recordList = data['RECORDS']\n"
   ]
  },
  {
   "cell_type": "code",
   "execution_count": null,
   "metadata": {
    "collapsed": true
   },
   "outputs": [],
   "source": [
    "#Create a record object by reading one subjects data\n",
    "record = wfdb.rdsamp(path + '/1002', sampfrom=0, sampto=None, channels=None,\n",
    "                physical=True, pbdir = None, m2s=True)\n"
   ]
  },
  {
   "cell_type": "code",
   "execution_count": 72,
   "metadata": {
    "scrolled": false
   },
   "outputs": [
    {
     "data": {
      "text/plain": [
       "136.17838225681228"
      ]
     },
     "metadata": {},
     "output_type": "display_data"
    },
    {
     "data": {
      "text/plain": [
       "15.069809395484015"
      ]
     },
     "metadata": {},
     "output_type": "display_data"
    },
    {
     "data": {
      "text/plain": [
       "4.7282608695652177"
      ]
     },
     "metadata": {},
     "output_type": "display_data"
    },
    {
     "data": {
      "text/plain": [
       "5.4637681159420293"
      ]
     },
     "metadata": {},
     "output_type": "display_data"
    },
    {
     "data": {
      "text/plain": [
       "77369252084442256.0"
      ]
     },
     "metadata": {},
     "output_type": "display_data"
    },
    {
     "data": {
      "text/plain": [
       "275.75447690912222"
      ]
     },
     "metadata": {},
     "output_type": "display_data"
    },
    {
     "data": {
      "text/plain": [
       "916.09760166251795"
      ]
     },
     "metadata": {},
     "output_type": "display_data"
    },
    {
     "data": {
      "text/plain": [
       "125.21808040087313"
      ]
     },
     "metadata": {},
     "output_type": "display_data"
    },
    {
     "data": {
      "text/plain": [
       "20.822110165617627"
      ]
     },
     "metadata": {},
     "output_type": "display_data"
    },
    {
     "data": {
      "text/plain": [
       "3.017994858611825"
      ]
     },
     "metadata": {},
     "output_type": "display_data"
    },
    {
     "data": {
      "text/plain": [
       "3.3341902313624678"
      ]
     },
     "metadata": {},
     "output_type": "display_data"
    },
    {
     "data": {
      "text/plain": [
       "1.1710814013854285e+36"
      ]
     },
     "metadata": {},
     "output_type": "display_data"
    },
    {
     "data": {
      "text/plain": [
       "138.22199671712897"
      ]
     },
     "metadata": {},
     "output_type": "display_data"
    },
    {
     "data": {
      "text/plain": [
       "299.57059619116154"
      ]
     },
     "metadata": {},
     "output_type": "display_data"
    }
   ],
   "source": [
    "index = 0\n",
    "pH = []\n",
    "delType = []\n",
    "\n",
    "FHRmeanStage1 = []\n",
    "FHRvarStage1 = []\n",
    "nAccStage1 = []\n",
    "nDecStage1 = []\n",
    "EnVLFStage1 = []\n",
    "EnLFStage1 = []\n",
    "EnHFStage1 = []\n",
    "\n",
    "FHRmeanStage2 = []\n",
    "FHRvarStage2 = []\n",
    "nAccStage2 = []\n",
    "nDecStage2 = []\n",
    "EnVLFStage2 = []\n",
    "EnLFStage2 = []\n",
    "EnHFStage2 = []\n",
    "\n",
    "for subject in recordList:\n",
    "    record = wfdb.rdsamp(path + '/' + str(subject), sampfrom=0, sampto=None, channels=None,\n",
    "                    physical=True, pbdir = None, m2s=True)\n",
    "    FHRpreproc = fhrpre.FHRpreproc(record)\n",
    "    FHRpreproc.parseHeader()\n",
    "    pH.append(FHRpreproc.pH)\n",
    "    delType.append(FHRpreproc.delType)\n",
    "    LaborSigs = FHRpreproc.sepLaborSigs()\n",
    "    \n",
    "    trimStage1 = FHRpreproc.trimSignal(LaborSigs[0],150)\n",
    "    compStage1 = FHRpreproc.compSignal(trimStage1)\n",
    "    FHRmeanStage1.append(FHRpreproc.calcFHRMean(compStage1))\n",
    "    FHRvarStage1.append(FHRpreproc.calcFHRVariability(compStage1))\n",
    "    nAccStage1.append(FHRpreproc.calcAcc(compStage1,FHRmeanStage1[index],15))\n",
    "    nDecStage1.append(FHRpreproc.calcDec(compStage1,FHRmeanStage1[index],15))\n",
    "    EnergyStage1 = FHRpreproc.calcEnergy(compStage1,FHRmeanStage1[index],0.03,0.15,0.5)\n",
    "    EnVLFStage1.append(EnergyStage1[0])\n",
    "    EnLFStage1.append(EnergyStage1[1])\n",
    "    EnHFStage1.append(EnergyStage1[2])\n",
    "    \n",
    "    compStage2 = FHRpreproc.compSignal(LaborSigs[2])\n",
    "    if len(compStage2) > 0:\n",
    "        FHRmeanStage2.append(FHRpreproc.calcFHRMean(compStage2))\n",
    "        FHRvarStage2.append(FHRpreproc.calcFHRVariability(compStage2))\n",
    "    else:\n",
    "        FHRmeanStage2.append(np.nan)\n",
    "        FHRvarStage2.append(np.nan)\n",
    "    \n",
    "    if len(compStage2) > 1200:\n",
    "        nAccStage2.append(FHRpreproc.calcAcc(compStage2,FHRmeanStage2[index],15))\n",
    "        nDecStage2.append(FHRpreproc.calcDec(compStage2,FHRmeanStage2[index],15))\n",
    "        EnergyStage2 = FHRpreproc.calcEnergy(compStage2,FHRmeanStage2[index],0.03,0.15,0.5)\n",
    "        EnVLFStage2.append(EnergyStage2[0])\n",
    "        EnLFStage2.append(EnergyStage2[1])\n",
    "        EnHFStage2.append(EnergyStage2[2])\n",
    "    else:\n",
    "        nAccStage2.append(np.nan)\n",
    "        nDecStage2.append(np.nan)\n",
    "        EnVLFStage2.append(np.nan)\n",
    "        EnLFStage2.append(np.nan)\n",
    "        EnHFStage2.append(np.nan)\n",
    "    index = index + 1\n",
    "    \n",
    "display(np.mean(FHRmeanStage1),np.mean(FHRvarStage1))\n",
    "display(np.mean(nAccStage1),np.mean(nDecStage1),np.mean(EnVLF),np.mean(EnLF),np.mean(EnHF))\n",
    "\n",
    "display(np.nanmean(FHRmeanStage2),np.nanmean(FHRvarStage2))\n",
    "display(np.nanmean(nAccStage2),np.nanmean(nDecStage2),np.nanmean(EnVLFStage2),np.nanmean(EnLFStage2),np.nanmean(EnHFStage2))"
   ]
  },
  {
   "cell_type": "code",
   "execution_count": 86,
   "metadata": {},
   "outputs": [
    {
     "data": {
      "text/html": [
       "<div>\n",
       "<style>\n",
       "    .dataframe thead tr:only-child th {\n",
       "        text-align: right;\n",
       "    }\n",
       "\n",
       "    .dataframe thead th {\n",
       "        text-align: left;\n",
       "    }\n",
       "\n",
       "    .dataframe tbody tr th {\n",
       "        vertical-align: top;\n",
       "    }\n",
       "</style>\n",
       "<table border=\"1\" class=\"dataframe\">\n",
       "  <thead>\n",
       "    <tr style=\"text-align: right;\">\n",
       "      <th></th>\n",
       "      <th>EnHFStage1</th>\n",
       "      <th>EnLFStage1</th>\n",
       "      <th>EnVLFStage1</th>\n",
       "      <th>FHRmeanStage1</th>\n",
       "      <th>FHRvarStage1</th>\n",
       "      <th>delType</th>\n",
       "      <th>nAccStage1</th>\n",
       "      <th>nDecStage1</th>\n",
       "      <th>pH</th>\n",
       "      <th>records</th>\n",
       "    </tr>\n",
       "  </thead>\n",
       "  <tbody>\n",
       "    <tr>\n",
       "      <th>0</th>\n",
       "      <td>902.462960</td>\n",
       "      <td>267.169847</td>\n",
       "      <td>941.928447</td>\n",
       "      <td>138.870581</td>\n",
       "      <td>15.773382</td>\n",
       "      <td>1</td>\n",
       "      <td>13</td>\n",
       "      <td>4</td>\n",
       "      <td>7.14</td>\n",
       "      <td>1001</td>\n",
       "    </tr>\n",
       "    <tr>\n",
       "      <th>1</th>\n",
       "      <td>958.015864</td>\n",
       "      <td>285.017149</td>\n",
       "      <td>87.850088</td>\n",
       "      <td>154.746364</td>\n",
       "      <td>12.371969</td>\n",
       "      <td>1</td>\n",
       "      <td>8</td>\n",
       "      <td>1</td>\n",
       "      <td>7.00</td>\n",
       "      <td>1002</td>\n",
       "    </tr>\n",
       "    <tr>\n",
       "      <th>2</th>\n",
       "      <td>903.501345</td>\n",
       "      <td>265.755464</td>\n",
       "      <td>82.578260</td>\n",
       "      <td>125.799270</td>\n",
       "      <td>10.182458</td>\n",
       "      <td>1</td>\n",
       "      <td>1</td>\n",
       "      <td>4</td>\n",
       "      <td>7.20</td>\n",
       "      <td>1003</td>\n",
       "    </tr>\n",
       "    <tr>\n",
       "      <th>3</th>\n",
       "      <td>1106.034546</td>\n",
       "      <td>327.330353</td>\n",
       "      <td>33502.132894</td>\n",
       "      <td>139.473826</td>\n",
       "      <td>14.354380</td>\n",
       "      <td>1</td>\n",
       "      <td>9</td>\n",
       "      <td>9</td>\n",
       "      <td>7.30</td>\n",
       "      <td>1004</td>\n",
       "    </tr>\n",
       "    <tr>\n",
       "      <th>4</th>\n",
       "      <td>876.397237</td>\n",
       "      <td>259.720617</td>\n",
       "      <td>494.143181</td>\n",
       "      <td>121.139616</td>\n",
       "      <td>15.292318</td>\n",
       "      <td>1</td>\n",
       "      <td>6</td>\n",
       "      <td>7</td>\n",
       "      <td>7.30</td>\n",
       "      <td>1005</td>\n",
       "    </tr>\n",
       "  </tbody>\n",
       "</table>\n",
       "</div>"
      ],
      "text/plain": [
       "    EnHFStage1  EnLFStage1   EnVLFStage1  FHRmeanStage1  FHRvarStage1  \\\n",
       "0   902.462960  267.169847    941.928447     138.870581     15.773382   \n",
       "1   958.015864  285.017149     87.850088     154.746364     12.371969   \n",
       "2   903.501345  265.755464     82.578260     125.799270     10.182458   \n",
       "3  1106.034546  327.330353  33502.132894     139.473826     14.354380   \n",
       "4   876.397237  259.720617    494.143181     121.139616     15.292318   \n",
       "\n",
       "   delType  nAccStage1  nDecStage1    pH  records  \n",
       "0        1          13           4  7.14     1001  \n",
       "1        1           8           1  7.00     1002  \n",
       "2        1           1           4  7.20     1003  \n",
       "3        1           9           9  7.30     1004  \n",
       "4        1           6           7  7.30     1005  "
      ]
     },
     "metadata": {},
     "output_type": "display_data"
    },
    {
     "data": {
      "text/html": [
       "<div>\n",
       "<style>\n",
       "    .dataframe thead tr:only-child th {\n",
       "        text-align: right;\n",
       "    }\n",
       "\n",
       "    .dataframe thead th {\n",
       "        text-align: left;\n",
       "    }\n",
       "\n",
       "    .dataframe tbody tr th {\n",
       "        vertical-align: top;\n",
       "    }\n",
       "</style>\n",
       "<table border=\"1\" class=\"dataframe\">\n",
       "  <thead>\n",
       "    <tr style=\"text-align: right;\">\n",
       "      <th></th>\n",
       "      <th>EnHFStage2</th>\n",
       "      <th>EnLFStage2</th>\n",
       "      <th>EnVLFStage2</th>\n",
       "      <th>FHRmeanStage2</th>\n",
       "      <th>FHRvarStage2</th>\n",
       "      <th>delType</th>\n",
       "      <th>nAccStage2</th>\n",
       "      <th>nDecStage2</th>\n",
       "      <th>pH</th>\n",
       "      <th>records</th>\n",
       "    </tr>\n",
       "  </thead>\n",
       "  <tbody>\n",
       "    <tr>\n",
       "      <th>0</th>\n",
       "      <td>166.546037</td>\n",
       "      <td>76.172356</td>\n",
       "      <td>8.512652e+11</td>\n",
       "      <td>128.563385</td>\n",
       "      <td>27.486803</td>\n",
       "      <td>1</td>\n",
       "      <td>7.0</td>\n",
       "      <td>1.0</td>\n",
       "      <td>7.14</td>\n",
       "      <td>1001</td>\n",
       "    </tr>\n",
       "    <tr>\n",
       "      <th>1</th>\n",
       "      <td>187.045911</td>\n",
       "      <td>195.977311</td>\n",
       "      <td>7.838176e+09</td>\n",
       "      <td>112.826003</td>\n",
       "      <td>32.598928</td>\n",
       "      <td>1</td>\n",
       "      <td>7.0</td>\n",
       "      <td>7.0</td>\n",
       "      <td>7.00</td>\n",
       "      <td>1002</td>\n",
       "    </tr>\n",
       "    <tr>\n",
       "      <th>2</th>\n",
       "      <td>180.365825</td>\n",
       "      <td>56.508993</td>\n",
       "      <td>4.816502e+14</td>\n",
       "      <td>100.445423</td>\n",
       "      <td>21.797320</td>\n",
       "      <td>1</td>\n",
       "      <td>3.0</td>\n",
       "      <td>6.0</td>\n",
       "      <td>7.20</td>\n",
       "      <td>1003</td>\n",
       "    </tr>\n",
       "    <tr>\n",
       "      <th>3</th>\n",
       "      <td>151.003808</td>\n",
       "      <td>81.813934</td>\n",
       "      <td>1.089751e+11</td>\n",
       "      <td>100.608371</td>\n",
       "      <td>24.540074</td>\n",
       "      <td>1</td>\n",
       "      <td>3.0</td>\n",
       "      <td>2.0</td>\n",
       "      <td>7.30</td>\n",
       "      <td>1004</td>\n",
       "    </tr>\n",
       "    <tr>\n",
       "      <th>4</th>\n",
       "      <td>176.648777</td>\n",
       "      <td>70.563553</td>\n",
       "      <td>3.940553e+06</td>\n",
       "      <td>108.108704</td>\n",
       "      <td>22.456808</td>\n",
       "      <td>1</td>\n",
       "      <td>2.0</td>\n",
       "      <td>3.0</td>\n",
       "      <td>7.30</td>\n",
       "      <td>1005</td>\n",
       "    </tr>\n",
       "  </tbody>\n",
       "</table>\n",
       "</div>"
      ],
      "text/plain": [
       "   EnHFStage2  EnLFStage2   EnVLFStage2  FHRmeanStage2  FHRvarStage2  delType  \\\n",
       "0  166.546037   76.172356  8.512652e+11     128.563385     27.486803        1   \n",
       "1  187.045911  195.977311  7.838176e+09     112.826003     32.598928        1   \n",
       "2  180.365825   56.508993  4.816502e+14     100.445423     21.797320        1   \n",
       "3  151.003808   81.813934  1.089751e+11     100.608371     24.540074        1   \n",
       "4  176.648777   70.563553  3.940553e+06     108.108704     22.456808        1   \n",
       "\n",
       "   nAccStage2  nDecStage2    pH  records  \n",
       "0         7.0         1.0  7.14     1001  \n",
       "1         7.0         7.0  7.00     1002  \n",
       "2         3.0         6.0  7.20     1003  \n",
       "3         3.0         2.0  7.30     1004  \n",
       "4         2.0         3.0  7.30     1005  "
      ]
     },
     "metadata": {},
     "output_type": "display_data"
    }
   ],
   "source": [
    "Stage1FHRFeat = pd.DataFrame({'records': recordList,'pH': pH,'delType': delType,'FHRmeanStage1': FHRmeanStage1,\n",
    "                            'FHRvarStage1':FHRvarStage1,'nAccStage1':nAccStage1,\n",
    "                            'nDecStage1':nDecStage1,'EnVLFStage1':EnVLFStage1,'EnLFStage1':EnLFStage1,\n",
    "                            'EnHFStage1':EnHFStage1})\n",
    "\n",
    "display(Stage1FHRFeat.head())\n",
    "\n",
    "Stage2FHRFeat = pd.DataFrame({'records': recordList,'pH': pH,'delType': delType,'FHRmeanStage2': FHRmeanStage2,\n",
    "                            'FHRvarStage2':FHRvarStage2,'nAccStage2':nAccStage2,\n",
    "                            'nDecStage2':nDecStage2,'EnVLFStage2':EnVLFStage2,'EnLFStage2':EnLFStage2,\n",
    "                            'EnHFStage2':EnHFStage2})\n",
    "\n",
    "display(Stage2FHRFeat.head())"
   ]
  },
  {
   "cell_type": "code",
   "execution_count": 38,
   "metadata": {},
   "outputs": [
    {
     "name": "stdout",
     "output_type": "stream",
     "text": [
      "19137 7.01 2 None\n"
     ]
    },
    {
     "data": {
      "text/plain": [
       "(array([ 0.,  0.,  0., ...,  0.,  0.,  0.]),\n",
       " 19137,\n",
       " array([ 0.,  0.,  0., ...,  0.,  0.,  0.]),\n",
       " 19137)"
      ]
     },
     "metadata": {},
     "output_type": "display_data"
    },
    {
     "name": "stdout",
     "output_type": "stream",
     "text": [
      "111.075608676 19.1238485988 7 13\n",
      "(343.80007246648546, 251.45438942945179, 821.65619475262747)\n"
     ]
    }
   ],
   "source": [
    "FHRpreproc = fhrpre.FHRpreproc(record)\n",
    "FHRpreproc.parseHeader()\n",
    "print(FHRpreproc.siglen,FHRpreproc.pH,FHRpreproc.delType,FHRpreproc.posStage2)\n",
    "SepSig = FHRpreproc.sepLaborSigs()\n",
    "display (SepSig)\n",
    "trimSignal = FHRpreproc.trimSignal(SepSig[0],150)\n",
    "compSignal = FHRpreproc.compSignal(trimSignal)\n",
    "meanFHR = FHRpreproc.calcFHRMean(compSignal)\n",
    "FHRvar = FHRpreproc.calcFHRVariability(compSignal)\n",
    "nAcc = FHRpreproc.calcAcc(compSignal,meanFHR,15)\n",
    "nDec = FHRpreproc.calcDec(compSignal,meanFHR,15)\n",
    "Energy = FHRpreproc.calcEnergy(compSignal,meanFHR,0.03,0.15,0.5)\n",
    "print(meanFHR,FHRvar,nAcc,nDec)\n",
    "print(Energy)"
   ]
  },
  {
   "cell_type": "code",
   "execution_count": 24,
   "metadata": {},
   "outputs": [
    {
     "data": {
      "image/png": "[encoded data removed]",
      "text/plain": [
       "<matplotlib.figure.Figure at 0x11aec32e8>"
      ]
     },
     "metadata": {},
     "output_type": "display_data"
    }
   ],
   "source": [
    "#Use wfdb library to plot records\n",
    "wfdb.plotrec(record)"
   ]
  },
  {
   "cell_type": "code",
   "execution_count": null,
   "metadata": {},
   "outputs": [],
   "source": [
    "#Print and Gather some useful record characteristics\n",
    "#View sampling frequency\n",
    "print (record.fs)\n",
    "#FHR Signal Length\n",
    "#First column of p_signals is FHR\n",
    "siglen = len(record.p_signals[:,0])\n",
    "print(siglen)\n",
    "#std = np.std(a[:,0])\n",
    "#print(std)\n",
    "#a = np.mean(a[np.nonzero(a[:,0])])\n",
    "#print(a)\n",
    "\n",
    "headerInfo=record.comments\n",
    "#Isolate pH\n",
    "pHstring = headerInfo[2]\n",
    "pHmatch=re.search('pH\\s*(\\d+.\\d+)',pHstring)\n",
    "pHmatch2= re.search('pH\\s*(\\d+)',pHstring)\n",
    "if pHmatch:\n",
    "    pH = float(pHmatch.group(1))\n",
    "if pHmatch2:\n",
    "    ph = float(pHmatch2.group(1))\n",
    "    print(ph)\n",
    "print(\"ph found:\",ph)\n",
    "\n",
    "#Pos stage II- This is position in raw signal sample not an index of an array\n",
    "posStage2String = headerInfo[40]\n",
    "posStage2 = re.search('Pos. II.st.\\s*(\\d+)',posStage2String)\n",
    "if posStage2:\n",
    "    posStage2 = int(posStage2.group(1))\n",
    "print(\"Position of Stage II is:\",posStage2)\n",
    "\n",
    "#Delivery Type\n",
    "delTypeString = headerInfo[36]\n",
    "delType = re.search('Deliv. type\\s*(\\d+)',delTypeString)\n",
    "if delType:\n",
    "    delType = int(delType.group(1))\n",
    "print(\"Delivery Type is\",delType)"
   ]
  },
  {
   "cell_type": "code",
   "execution_count": null,
   "metadata": {},
   "outputs": [],
   "source": [
    "#Separate Stage I Signal\n",
    "Stage1Sig = record.p_signals[0:posStage2,0]\n",
    "Stage1len = len(Stage1Sig)\n",
    "#print(\"Length of Stage I is: \",Stage1len,\" datapoints and \", Stage1len)/4, \" sec\")))\n",
    "print(\"Length of Stage I is: %d datapoints and %.2f seconds\" % (Stage1len,Stage1len/4))\n",
    "#Separate Stage II Signal\n",
    "Stage2Sig = record.p_signals[posStage2:,0]\n",
    "Stage2len = len(Stage2Sig)\n",
    "print(\"Length of Stage 2 is: %d datapoints and %.2f seconds\" % (Stage2len,Stage2len/4))"
   ]
  },
  {
   "cell_type": "code",
   "execution_count": null,
   "metadata": {},
   "outputs": [],
   "source": [
    "#Set Time Length to remove samples from beginning or end of sample\n",
    "#This is time potentially confounding signal if equipment just started/ended acquisition\n",
    "\n",
    "#Define Excluded Time-Frame in seconds and number of samples\n",
    "excTimeFrameSecs = 150\n",
    "excTimeFrameSamp = 150*4\n",
    "#Compress by removing zero elements from each when a signal was not able to be acquired\n",
    "Stage1SigTrim = Stage1Sig[excTimeFrameSamp:]\n",
    "print(\"Stage I trimmed length is: %d datapoints and %.2f seconds\" % (len(Stage1SigTrim),len(Stage1SigTrim)/4))\n",
    "Stage2SigTrim = Stage2Sig[0:Stage2len-excTimeFrameSamp]\n",
    "print(\"Stage II trimmed length is: %d datapoints and %.2f seconds\" % (len(Stage2SigTrim),len(Stage2SigTrim)/4))\n",
    "\n",
    "#Compress each Signal by removing zero elements\n",
    "Stage1SigComp = Stage1SigTrim[np.nonzero(Stage1SigTrim)]\n",
    "Stage2SigComp = Stage2SigTrim[np.nonzero(Stage2SigTrim)]\n",
    "print(\"Stage I Compressed length is: %d datapoints and %.2f seconds\" % (len(Stage1SigComp),len(Stage1SigComp)/4))\n",
    "print(\"Stage II Compressed length is: %d datapoints and %.2f seconds\" % (len(Stage2SigComp),len(Stage2SigComp)/4))\n",
    "\n"
   ]
  },
  {
   "cell_type": "code",
   "execution_count": null,
   "metadata": {},
   "outputs": [],
   "source": [
    "Stage1FHRMean = np.mean(Stage1SigComp)\n",
    "Stage1HRV = np.std(Stage1SigComp)\n",
    "Stage2FHRMean = np.mean(Stage2SigComp)\n",
    "Stage2HRV = np.std(Stage2SigComp)\n",
    "\n",
    "print(\"Stage I Compressed Signal Mean: %.2f and HRV: %.2f\" % (Stage1FHRMean,Stage1HRV))\n",
    "print(\"Stage 2 Compressed Signal Mean: %.2f and HRV: %.2f\" % (Stage2FHRMean,Stage2HRV))\n"
   ]
  },
  {
   "cell_type": "code",
   "execution_count": null,
   "metadata": {},
   "outputs": [],
   "source": [
    "#Acceleration Detection Stage I\n",
    "\n",
    "#Calculation of acceleration minimum detection time in number of samples\n",
    "minAccDur = 15 #seconds\n",
    "minAccSamp = minAccDur*record.fs\n",
    "print(minAccSamp)\n",
    "\n",
    "count = 0\n",
    "prevCheck = 0\n",
    "nAcc = 0\n",
    "for i in range(len(Stage1SigComp)):\n",
    "    if Stage1SigComp[i] > (Stage1FHRMean+15):\n",
    "        count=count+1\n",
    "    #    print(count)\n",
    "    else:\n",
    "        if (count > minAccSamp):\n",
    "#            print(\"YES\")\n",
    "            nAcc = nAcc+1\n",
    "        count = 0       \n",
    "\n",
    "print(nAcc)\n",
    "\n"
   ]
  },
  {
   "cell_type": "code",
   "execution_count": null,
   "metadata": {},
   "outputs": [],
   "source": [
    "#Acceleration Detection Stage II\n",
    "\n",
    "#Calculation of acceleration minimum detection time in number of samples\n",
    "minAccDur = 15 #seconds\n",
    "minAccSamp = minAccDur*record.fs\n",
    "print(minAccSamp)\n",
    "\n",
    "count = 0\n",
    "prevCheck = 0\n",
    "nAcc = 0\n",
    "for i in range(len(Stage2SigComp)):\n",
    "    if Stage2SigComp[i] > (Stage2FHRMean+15):\n",
    "        count=count+1\n",
    "    #    print(count)\n",
    "    else:\n",
    "        if (count > minAccSamp):\n",
    "#            print(\"YES\")\n",
    "            nAcc = nAcc+1\n",
    "        count = 0       \n",
    "\n",
    "print(nAcc)"
   ]
  },
  {
   "cell_type": "code",
   "execution_count": null,
   "metadata": {},
   "outputs": [],
   "source": [
    "#Decelerations Detection Stage I\n",
    "\n",
    "#Calculation of acceleration minimum detection time in number of samples\n",
    "minAccDur = 15 #seconds\n",
    "minAccSamp = minAccDur*record.fs\n",
    "print(minAccSamp)\n",
    "\n",
    "count = 0\n",
    "prevCheck = 0\n",
    "nDec = 0\n",
    "for i in range(len(Stage1SigComp)):\n",
    "    if Stage1SigComp[i] < (Stage1FHRMean-15):\n",
    "        count=count+1\n",
    "    #    print(count)\n",
    "    else:\n",
    "        if (count > minAccSamp):\n",
    "#            print(\"YES\")\n",
    "            nDec = nDec+1\n",
    "        count = 0       \n",
    "\n",
    "print(nDec)"
   ]
  },
  {
   "cell_type": "code",
   "execution_count": null,
   "metadata": {},
   "outputs": [],
   "source": [
    "#Decelerations Detection Stage II\n",
    "\n",
    "#Calculation of acceleration minimum detection time in number of samples\n",
    "minAccDur = 15 #seconds\n",
    "minAccSamp = minAccDur*record.fs\n",
    "print(minAccSamp)\n",
    "\n",
    "count = 0\n",
    "prevCheck = 0\n",
    "nDec = 0\n",
    "for i in range(len(Stage2SigComp)):\n",
    "    if Stage2SigComp[i] < (Stage2FHRMean+15):\n",
    "        count=count+1\n",
    "    #    print(count)\n",
    "    else:\n",
    "        if (count > minAccSamp):\n",
    "#            print(\"YES\")\n",
    "            nDec = nDec+1\n",
    "        count = 0       \n",
    "\n",
    "print(nDec)"
   ]
  },
  {
   "cell_type": "code",
   "execution_count": null,
   "metadata": {},
   "outputs": [],
   "source": [
    "Fs = record.fs  # sampling rate\n",
    "Ts = 1.0/Fs # sampling interval\n",
    "n = len(Stage1SigComp) # length of the signal\n",
    "t = np.arange(0,n) # time vector\n",
    "k = np.arange(n)\n",
    "T = n/Fs\n",
    "frq = k/T # two sides frequency range\n",
    "frq = frq[range(int(n/2))] # one side frequency range\n",
    "Y = np.fft.fft(Stage1SigComp-Stage1FHRMean)/n # fft computing and normalization\n",
    "Y = abs(Y[range(int(n/2))])\n",
    "P = np.power(Y,Y)\n",
    "\n",
    "fig, ax = plt.subplots(2, 1)\n",
    "ax[0].plot(t,Stage1SigComp)\n",
    "ax[0].set_xlabel('Time')\n",
    "ax[0].set_ylabel('Amplitude')\n",
    "ax[1].plot(frq[1:],P[1:],'r') # plotting the spectrum\n",
    "ax[1].set_xlabel('Freq (Hz)')\n",
    "ax[1].set_ylabel('|Y(freq)|^2')\n",
    "\n",
    "#plt.plot(frq,Y)\n",
    "\n",
    "print(frq)\n",
    "\n",
    "VLFindex = np.argmax(frq>=0.03)\n",
    "print(VLFindex,frq[VLFindex])\n",
    "EnVLF = np.sum(P[0:VLFindex])\n",
    "\n",
    "LFindex = np.argmax(frq>=0.15)\n",
    "print(LFindex, frq[LFindex])\n",
    "EnLF = np.sum(P[VLFindex:LFindex])\n",
    "\n",
    "#HFindex = len(frq)\n",
    "HFindex = np.argmax(frq>=0.5)\n",
    "print(HFindex,frq[HFindex])\n",
    "EnHF = np.sum(P[LFindex:HFindex])\n",
    "\n",
    "print(frq[HFindex-1])\n",
    "print(EnVLF,EnLF,EnHF)"
   ]
  },
  {
   "cell_type": "code",
   "execution_count": null,
   "metadata": {
    "collapsed": true
   },
   "outputs": [],
   "source": []
  },
  {
   "cell_type": "code",
   "execution_count": null,
   "metadata": {},
   "outputs": [],
   "source": [
    "Fs = record.fs  # sampling rate\n",
    "Ts = 1.0/Fs # sampling interval\n",
    "n = len(Stage2SigComp) # length of the signal\n",
    "t = np.arange(0,n) # time vector\n",
    "k = np.arange(n)\n",
    "T = n/Fs\n",
    "frq = k/T # two sides frequency range\n",
    "frq = frq[range(int(n/2))] # one side frequency range\n",
    "Y = np.fft.fft(Stage2SigComp-Stage2FHRMean)/n # fft computing and normalization\n",
    "Y = Y[range(int(n/2))]\n",
    "fig, ax = plt.subplots(2, 1)\n",
    "ax[0].plot(t,Stage2SigComp)\n",
    "ax[0].set_xlabel('Time')\n",
    "ax[0].set_ylabel('Amplitude')\n",
    "ax[1].plot(frq,abs(np.power(Y,Y)),'r') # plotting the spectrum\n",
    "ax[1].set_xlabel('Freq (Hz)')\n",
    "ax[1].set_ylabel('|Y(freq)|')\n",
    "\n",
    "#plt.plot(frq,Y)\n",
    "\n",
    "VLFindex = np.argmax(frq>=0.03)\n",
    "print(VLFindex,frq[VLFindex])\n",
    "EnVLF = np.sum(P[0:VLFindex])\n",
    "\n",
    "LFindex = np.argmax(frq>=0.15)\n",
    "print(LFindex, frq[LFindex])\n",
    "EnLF = np.sum(P[VLFindex:LFindex])\n",
    "\n",
    "#HFindex = len(frq)\n",
    "HFindex = np.argmax(frq>=0.5)\n",
    "print(HFindex,frq[HFindex])\n",
    "EnHF = np.sum(P[LFindex:HFindex])\n",
    "\n",
    "print(frq[HFindex-1])\n",
    "print(EnVLF,EnLF,EnHF)"
   ]
  },
  {
   "cell_type": "code",
   "execution_count": null,
   "metadata": {
    "collapsed": true
   },
   "outputs": [],
   "source": []
  },
  {
   "cell_type": "code",
   "execution_count": null,
   "metadata": {},
   "outputs": [],
   "source": [
    "#List Signal Length\n",
    "print (record.siglen)\n",
    "#List record comment\n",
    "print (record.comments)"
   ]
  },
  {
   "cell_type": "code",
   "execution_count": null,
   "metadata": {
    "collapsed": true
   },
   "outputs": [],
   "source": [
    "#Alternate way of loading a record\n",
    "#Output signal as a numpy array, and a dictionary of fields describing signal\n",
    "sig, fields = wfdb.srdsamp(path + '/1003')"
   ]
  },
  {
   "cell_type": "code",
   "execution_count": null,
   "metadata": {
    "collapsed": true
   },
   "outputs": [],
   "source": [
    "#view length of FHR signal\n",
    "len(sig)"
   ]
  },
  {
   "cell_type": "code",
   "execution_count": null,
   "metadata": {
    "collapsed": true
   },
   "outputs": [],
   "source": [
    "#view dictionary\n",
    "fields"
   ]
  },
  {
   "cell_type": "code",
   "execution_count": null,
   "metadata": {
    "collapsed": true
   },
   "outputs": [],
   "source": [
    "#view the sampling frequency field\n",
    "fields['fs']"
   ]
  }
 ],
 "metadata": {
  "kernelspec": {
   "display_name": "fetal_heart_rate",
   "language": "python",
   "name": "fetal_heart_rate"
  },
  "language_info": {
   "codemirror_mode": {
    "name": "ipython",
    "version": 3
   },
   "file_extension": ".py",
   "mimetype": "text/x-python",
   "name": "python",
   "nbconvert_exporter": "python",
   "pygments_lexer": "ipython3",
   "version": "3.6.2"
  }
 },
 "nbformat": 4,
 "nbformat_minor": 2
}
