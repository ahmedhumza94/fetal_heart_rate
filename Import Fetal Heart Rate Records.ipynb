{
 "cells": [
  {
   "cell_type": "markdown",
   "metadata": {},
   "source": [
    "## Import CTH-UHB Intrapartum CTG Records\n",
    "\n",
    "This notebook provides an example of importing a FHR and UC record from the open CTH-UHB Intrapartum database on PhysioNet. "
   ]
  },
  {
   "cell_type": "code",
   "execution_count": 22,
   "metadata": {},
   "outputs": [],
   "source": [
    "%matplotlib inline\n",
    "\n",
    "#Import the waveform database library\n",
    "import wfdb\n",
    "import numpy as np\n",
    "import re\n",
    "import matplotlib.pyplot as plt\n",
    "import pandas as pd\n",
    "import fhrpreproc as fhrpre\n",
    "from sklearn.tree import DecisionTreeClassifier\n",
    "from sklearn.model_selection import train_test_split\n",
    "from sklearn import tree\n",
    "import graphviz\n",
    "from scipy.cluster.hierarchy import dendrogram, linkage"
   ]
  },
  {
   "cell_type": "code",
   "execution_count": null,
   "metadata": {
    "collapsed": true
   },
   "outputs": [],
   "source": [
    "#Load Physionet databases recognized by the library\n",
    "dblist = wfdb.getdblist()"
   ]
  },
  {
   "cell_type": "code",
   "execution_count": null,
   "metadata": {
    "collapsed": true
   },
   "outputs": [],
   "source": [
    "#Print List of databases\n",
    "print (dblist)"
   ]
  },
  {
   "cell_type": "code",
   "execution_count": null,
   "metadata": {
    "collapsed": true,
    "scrolled": true
   },
   "outputs": [],
   "source": [
    "#Download the desired database to a local directory\n",
    "wfdb.dldatabase('ctu-uh b-ctgdb', '/Users/humza/Google Drive/nanodegree/machine-learning-master/projects/capstone/fetal_heart_rate/RawData', records = 'all', annotators = 'all',\n",
    "           keepsubdirs = True, overwrite = False)\n"
   ]
  },
  {
   "cell_type": "code",
   "execution_count": 5,
   "metadata": {
    "collapsed": true
   },
   "outputs": [],
   "source": [
    "#Set path to downloaded data\n",
    "path = '/Users/humza/Google Drive/nanodegree/machine-learning-master/projects/capstone/fetal_heart_rate/RawData'"
   ]
  },
  {
   "cell_type": "code",
   "execution_count": 6,
   "metadata": {},
   "outputs": [],
   "source": [
    "#Import List of Record Names without .hea extension\n",
    "\n",
    "data = pd.read_csv(\"RECORDS.csv\")\n",
    "recordList = data['RECORDS']\n"
   ]
  },
  {
   "cell_type": "code",
   "execution_count": null,
   "metadata": {
    "collapsed": true
   },
   "outputs": [],
   "source": [
    "#Create a record object by reading one subjects data\n",
    "record = wfdb.rdsamp(path + '/1002', sampfrom=0, sampto=None, channels=None,\n",
    "                physical=True, pbdir = None, m2s=True)\n"
   ]
  },
  {
   "cell_type": "code",
   "execution_count": 7,
   "metadata": {
    "scrolled": false
   },
   "outputs": [
    {
     "data": {
      "text/plain": [
       "136.17838225681228"
      ]
     },
     "metadata": {},
     "output_type": "display_data"
    },
    {
     "data": {
      "text/plain": [
       "15.069809395484015"
      ]
     },
     "metadata": {},
     "output_type": "display_data"
    },
    {
     "data": {
      "text/plain": [
       "4.7282608695652177"
      ]
     },
     "metadata": {},
     "output_type": "display_data"
    },
    {
     "data": {
      "text/plain": [
       "5.4637681159420293"
      ]
     },
     "metadata": {},
     "output_type": "display_data"
    },
    {
     "data": {
      "text/plain": [
       "77369252084442256.0"
      ]
     },
     "metadata": {},
     "output_type": "display_data"
    },
    {
     "data": {
      "text/plain": [
       "275.75447690912222"
      ]
     },
     "metadata": {},
     "output_type": "display_data"
    },
    {
     "data": {
      "text/plain": [
       "916.09760166251795"
      ]
     },
     "metadata": {},
     "output_type": "display_data"
    },
    {
     "data": {
      "text/plain": [
       "126.56267540162597"
      ]
     },
     "metadata": {},
     "output_type": "display_data"
    },
    {
     "data": {
      "text/plain": [
       "21.047043620707861"
      ]
     },
     "metadata": {},
     "output_type": "display_data"
    },
    {
     "data": {
      "text/plain": [
       "3.017994858611825"
      ]
     },
     "metadata": {},
     "output_type": "display_data"
    },
    {
     "data": {
      "text/plain": [
       "3.3341902313624678"
      ]
     },
     "metadata": {},
     "output_type": "display_data"
    },
    {
     "data": {
      "text/plain": [
       "1.1710814013854285e+36"
      ]
     },
     "metadata": {},
     "output_type": "display_data"
    },
    {
     "data": {
      "text/plain": [
       "138.22199671712897"
      ]
     },
     "metadata": {},
     "output_type": "display_data"
    },
    {
     "data": {
      "text/plain": [
       "299.57059619116154"
      ]
     },
     "metadata": {},
     "output_type": "display_data"
    }
   ],
   "source": [
    "index = 0\n",
    "pH = []\n",
    "delType = []\n",
    "\n",
    "FHRmeanStage1 = []\n",
    "FHRvarStage1 = []\n",
    "nAccStage1 = []\n",
    "nDecStage1 = []\n",
    "EnVLFStage1 = []\n",
    "EnLFStage1 = []\n",
    "EnHFStage1 = []\n",
    "\n",
    "FHRmeanStage2 = []\n",
    "FHRvarStage2 = []\n",
    "nAccStage2 = []\n",
    "nDecStage2 = []\n",
    "EnVLFStage2 = []\n",
    "EnLFStage2 = []\n",
    "EnHFStage2 = []\n",
    "\n",
    "for subject in recordList:\n",
    "    record = wfdb.rdsamp(path + '/' + str(subject), sampfrom=0, sampto=None, channels=None,\n",
    "                    physical=True, pbdir = None, m2s=True)\n",
    "    FHRpreproc = fhrpre.FHRpreproc(record)\n",
    "    FHRpreproc.parseHeader()\n",
    "    pH.append(FHRpreproc.pH)\n",
    "    delType.append(FHRpreproc.delType)\n",
    "    LaborSigs = FHRpreproc.sepLaborSigs()\n",
    "    \n",
    "    trimStage1 = FHRpreproc.trimSignal(LaborSigs[0],150)\n",
    "    compStage1 = FHRpreproc.compSignal(trimStage1)\n",
    "    FHRmeanStage1.append(FHRpreproc.calcFHRMean(compStage1))\n",
    "    FHRvarStage1.append(FHRpreproc.calcFHRVariability(compStage1))\n",
    "    nAccStage1.append(FHRpreproc.calcAcc(compStage1,FHRmeanStage1[index],15))\n",
    "    nDecStage1.append(FHRpreproc.calcDec(compStage1,FHRmeanStage1[index],15))\n",
    "    EnergyStage1 = FHRpreproc.calcEnergy(compStage1,FHRmeanStage1[index],0.03,0.15,0.5)\n",
    "    EnVLFStage1.append(EnergyStage1[0])\n",
    "    EnLFStage1.append(EnergyStage1[1])\n",
    "    EnHFStage1.append(EnergyStage1[2])\n",
    "    \n",
    "    compStage2 = FHRpreproc.compSignal(LaborSigs[2])\n",
    "    if len(compStage2) > 1200:\n",
    "        FHRmeanStage2.append(FHRpreproc.calcFHRMean(compStage2))\n",
    "        FHRvarStage2.append(FHRpreproc.calcFHRVariability(compStage2))\n",
    "    else:\n",
    "        FHRmeanStage2.append(np.nan)\n",
    "        FHRvarStage2.append(np.nan)\n",
    "    \n",
    "    if len(compStage2) > 1200:\n",
    "        nAccStage2.append(FHRpreproc.calcAcc(compStage2,FHRmeanStage2[index],15))\n",
    "        nDecStage2.append(FHRpreproc.calcDec(compStage2,FHRmeanStage2[index],15))\n",
    "        EnergyStage2 = FHRpreproc.calcEnergy(compStage2,FHRmeanStage2[index],0.03,0.15,0.5)\n",
    "        EnVLFStage2.append(EnergyStage2[0])\n",
    "        EnLFStage2.append(EnergyStage2[1])\n",
    "        EnHFStage2.append(EnergyStage2[2])\n",
    "    else:\n",
    "        nAccStage2.append(np.nan)\n",
    "        nDecStage2.append(np.nan)\n",
    "        EnVLFStage2.append(np.nan)\n",
    "        EnLFStage2.append(np.nan)\n",
    "        EnHFStage2.append(np.nan)\n",
    "    index = index + 1\n",
    "    \n",
    "display(np.mean(FHRmeanStage1),np.mean(FHRvarStage1))\n",
    "display(np.mean(nAccStage1),np.mean(nDecStage1),np.mean(EnVLFStage1),np.mean(EnLFStage1),np.mean(EnHFStage1))\n",
    "\n",
    "display(np.nanmean(FHRmeanStage2),np.nanmean(FHRvarStage2))\n",
    "display(np.nanmean(nAccStage2),np.nanmean(nDecStage2),np.nanmean(EnVLFStage2),np.nanmean(EnLFStage2),np.nanmean(EnHFStage2))\n",
    "\n"
   ]
  },
  {
   "cell_type": "code",
   "execution_count": 20,
   "metadata": {
    "scrolled": false
   },
   "outputs": [
    {
     "data": {
      "text/plain": [
       "417"
      ]
     },
     "metadata": {},
     "output_type": "display_data"
    },
    {
     "data": {
      "text/plain": [
       "274"
      ]
     },
     "metadata": {},
     "output_type": "display_data"
    },
    {
     "data": {
      "text/plain": [
       "691"
      ]
     },
     "metadata": {},
     "output_type": "display_data"
    }
   ],
   "source": [
    "labelStage1 = np.repeat(1,len(recordList))\n",
    "labelStage2 = np.repeat(2,len(recordList))\n",
    "\n",
    "Stage1FHRFeat = pd.DataFrame({'record': recordList,'pH': pH,'delType': delType,'FHRmean': FHRmeanStage1,\n",
    "                            'FHRvar':FHRvarStage1,'nAcc':nAccStage1,\n",
    "                            'nDec':nDecStage1,'EnVLF':EnVLFStage1,'EnLF':EnLFStage1,\n",
    "                            'EnHF':EnHFStage1,'StageLabel':labelStage1})\n",
    "\n",
    "Stage2FHRFeat = pd.DataFrame({'record': recordList,'pH': pH,'delType': delType,'FHRmean': FHRmeanStage2,\n",
    "                            'FHRvar':FHRvarStage2,'nAcc':nAccStage2,\n",
    "                            'nDec':nDecStage2,'EnVLF':EnVLFStage2,'EnLF':EnLFStage2,\n",
    "                            'EnHF':EnHFStage2,'StageLabel':labelStage2})\n",
    "\n",
    "\n",
    "\n",
    "include = Stage1FHRFeat[Stage1FHRFeat['pH']>7.14]\n",
    "include = include[include['delType']==1]\n",
    "include = include.dropna()\n",
    "display(len(include))\n",
    "\n",
    "include2 = Stage2FHRFeat[Stage1FHRFeat['pH']>7.14]\n",
    "include2 = include2[include2['delType']==1]\n",
    "include2 = include2.dropna()\n",
    "display(len(include2))\n",
    "\n",
    "combinedData = pd.concat([Stage1FHRFeat, Stage2FHRFeat], axis = 0)\n",
    "combinedData = combinedData[combinedData['pH']>7.14]\n",
    "combinedData = combinedData[combinedData['delType']==1]\n",
    "combinedData=combinedData.dropna()\n",
    "\n",
    "display(len(combinedData))\n",
    "\n",
    "X = combinedData.drop(['pH','delType','record','StageLabel','EnVLF'],axis=1)\n",
    "\n",
    "Y=combinedData['StageLabel']\n",
    "\n",
    "\n",
    "X_train, X_test, Y_train, Y_test = train_test_split(X, Y, test_size=0.7, random_state=42)"
   ]
  },
  {
   "cell_type": "code",
   "execution_count": 21,
   "metadata": {},
   "outputs": [
    {
     "name": "stdout",
     "output_type": "stream",
     "text": [
      "0.981404958678\n"
     ]
    },
    {
     "data": {
      "image/svg+xml": [
       "<?xml version=\"1.0\" encoding=\"UTF-8\" standalone=\"no\"?>\n",
       "<!DOCTYPE svg PUBLIC \"-//W3C//DTD SVG 1.1//EN\"\n",
       " \"http://www.w3.org/Graphics/SVG/1.1/DTD/svg11.dtd\">\n",
       "<!-- Generated by graphviz version 2.40.1 (20161225.0304)\n",
       " -->\n",
       "<!-- Title: Tree Pages: 1 -->\n",
       "<svg width=\"352pt\" height=\"414pt\"\n",
       " viewBox=\"0.00 0.00 352.45 414.00\" xmlns=\"http://www.w3.org/2000/svg\" xmlns:xlink=\"http://www.w3.org/1999/xlink\">\n",
       "<g id=\"graph0\" class=\"graph\" transform=\"scale(1 1) rotate(0) translate(4 410)\">\n",
       "<title>Tree</title>\n",
       "<polygon fill=\"#ffffff\" stroke=\"transparent\" points=\"-4,4 -4,-410 348.4478,-410 348.4478,4 -4,4\"/>\n",
       "<!-- 0 -->\n",
       "<g id=\"node1\" class=\"node\">\n",
       "<title>0</title>\n",
       "<path fill=\"#e58139\" fill-opacity=\"0.301961\" stroke=\"#000000\" d=\"M163.0835,-406C163.0835,-406 67.2573,-406 67.2573,-406 61.2573,-406 55.2573,-400 55.2573,-394 55.2573,-394 55.2573,-340 55.2573,-340 55.2573,-334 61.2573,-328 67.2573,-328 67.2573,-328 163.0835,-328 163.0835,-328 169.0835,-328 175.0835,-334 175.0835,-340 175.0835,-340 175.0835,-394 175.0835,-394 175.0835,-400 169.0835,-406 163.0835,-406\"/>\n",
       "<text text-anchor=\"start\" x=\"64.2427\" y=\"-390.8\" font-family=\"Helvetica,sans-Serif\" font-size=\"14.00\" fill=\"#000000\">EnHF ≤ 555.421</text>\n",
       "<text text-anchor=\"start\" x=\"78.7793\" y=\"-376.8\" font-family=\"Helvetica,sans-Serif\" font-size=\"14.00\" fill=\"#000000\">gini = 0.484</text>\n",
       "<text text-anchor=\"start\" x=\"69.4482\" y=\"-362.8\" font-family=\"Helvetica,sans-Serif\" font-size=\"14.00\" fill=\"#000000\">samples = 207</text>\n",
       "<text text-anchor=\"start\" x=\"63.2139\" y=\"-348.8\" font-family=\"Helvetica,sans-Serif\" font-size=\"14.00\" fill=\"#000000\">value = [122, 85]</text>\n",
       "<text text-anchor=\"start\" x=\"87.3516\" y=\"-334.8\" font-family=\"Helvetica,sans-Serif\" font-size=\"14.00\" fill=\"#000000\">class = 1</text>\n",
       "</g>\n",
       "<!-- 1 -->\n",
       "<g id=\"node2\" class=\"node\">\n",
       "<title>1</title>\n",
       "<path fill=\"#399de5\" stroke=\"#000000\" d=\"M92.5118,-285C92.5118,-285 11.829,-285 11.829,-285 5.829,-285 -.171,-279 -.171,-273 -.171,-273 -.171,-233 -.171,-233 -.171,-227 5.829,-221 11.829,-221 11.829,-221 92.5118,-221 92.5118,-221 98.5118,-221 104.5118,-227 104.5118,-233 104.5118,-233 104.5118,-273 104.5118,-273 104.5118,-279 98.5118,-285 92.5118,-285\"/>\n",
       "<text text-anchor=\"start\" x=\"23.5654\" y=\"-269.8\" font-family=\"Helvetica,sans-Serif\" font-size=\"14.00\" fill=\"#000000\">gini = 0.0</text>\n",
       "<text text-anchor=\"start\" x=\"10.3413\" y=\"-255.8\" font-family=\"Helvetica,sans-Serif\" font-size=\"14.00\" fill=\"#000000\">samples = 84</text>\n",
       "<text text-anchor=\"start\" x=\"8\" y=\"-241.8\" font-family=\"Helvetica,sans-Serif\" font-size=\"14.00\" fill=\"#000000\">value = [0, 84]</text>\n",
       "<text text-anchor=\"start\" x=\"24.3516\" y=\"-227.8\" font-family=\"Helvetica,sans-Serif\" font-size=\"14.00\" fill=\"#000000\">class = 2</text>\n",
       "</g>\n",
       "<!-- 0&#45;&gt;1 -->\n",
       "<g id=\"edge1\" class=\"edge\">\n",
       "<title>0&#45;&gt;1</title>\n",
       "<path fill=\"none\" stroke=\"#000000\" d=\"M93.4894,-327.7677C87.4831,-316.8991 80.9475,-305.0729 74.8841,-294.1009\"/>\n",
       "<polygon fill=\"#000000\" stroke=\"#000000\" points=\"77.8241,-292.1847 69.9238,-285.1252 71.6974,-295.5705 77.8241,-292.1847\"/>\n",
       "<text text-anchor=\"middle\" x=\"63.002\" y=\"-304.9479\" font-family=\"Helvetica,sans-Serif\" font-size=\"14.00\" fill=\"#000000\">True</text>\n",
       "</g>\n",
       "<!-- 2 -->\n",
       "<g id=\"node3\" class=\"node\">\n",
       "<title>2</title>\n",
       "<path fill=\"#e58139\" fill-opacity=\"0.992157\" stroke=\"#000000\" d=\"M222.2974,-292C222.2974,-292 134.0434,-292 134.0434,-292 128.0434,-292 122.0434,-286 122.0434,-280 122.0434,-280 122.0434,-226 122.0434,-226 122.0434,-220 128.0434,-214 134.0434,-214 134.0434,-214 222.2974,-214 222.2974,-214 228.2974,-214 234.2974,-220 234.2974,-226 234.2974,-226 234.2974,-280 234.2974,-280 234.2974,-286 228.2974,-292 222.2974,-292\"/>\n",
       "<text text-anchor=\"start\" x=\"140.4736\" y=\"-276.8\" font-family=\"Helvetica,sans-Serif\" font-size=\"14.00\" fill=\"#000000\">nDec ≤ 13.5</text>\n",
       "<text text-anchor=\"start\" x=\"141.7793\" y=\"-262.8\" font-family=\"Helvetica,sans-Serif\" font-size=\"14.00\" fill=\"#000000\">gini = 0.016</text>\n",
       "<text text-anchor=\"start\" x=\"132.4482\" y=\"-248.8\" font-family=\"Helvetica,sans-Serif\" font-size=\"14.00\" fill=\"#000000\">samples = 123</text>\n",
       "<text text-anchor=\"start\" x=\"130.1069\" y=\"-234.8\" font-family=\"Helvetica,sans-Serif\" font-size=\"14.00\" fill=\"#000000\">value = [122, 1]</text>\n",
       "<text text-anchor=\"start\" x=\"150.3516\" y=\"-220.8\" font-family=\"Helvetica,sans-Serif\" font-size=\"14.00\" fill=\"#000000\">class = 1</text>\n",
       "</g>\n",
       "<!-- 0&#45;&gt;2 -->\n",
       "<g id=\"edge2\" class=\"edge\">\n",
       "<title>0&#45;&gt;2</title>\n",
       "<path fill=\"none\" stroke=\"#000000\" d=\"M136.8514,-327.7677C141.6031,-319.1694 146.686,-309.9718 151.6043,-301.072\"/>\n",
       "<polygon fill=\"#000000\" stroke=\"#000000\" points=\"154.6759,-302.75 156.4494,-292.3046 148.5492,-299.3642 154.6759,-302.75\"/>\n",
       "<text text-anchor=\"middle\" x=\"163.3712\" y=\"-312.1273\" font-family=\"Helvetica,sans-Serif\" font-size=\"14.00\" fill=\"#000000\">False</text>\n",
       "</g>\n",
       "<!-- 3 -->\n",
       "<g id=\"node4\" class=\"node\">\n",
       "<title>3</title>\n",
       "<path fill=\"#e58139\" stroke=\"#000000\" d=\"M160.7652,-171C160.7652,-171 73.5756,-171 73.5756,-171 67.5756,-171 61.5756,-165 61.5756,-159 61.5756,-159 61.5756,-119 61.5756,-119 61.5756,-113 67.5756,-107 73.5756,-107 73.5756,-107 160.7652,-107 160.7652,-107 166.7652,-107 172.7652,-113 172.7652,-119 172.7652,-119 172.7652,-159 172.7652,-159 172.7652,-165 166.7652,-171 160.7652,-171\"/>\n",
       "<text text-anchor=\"start\" x=\"88.5654\" y=\"-155.8\" font-family=\"Helvetica,sans-Serif\" font-size=\"14.00\" fill=\"#000000\">gini = 0.0</text>\n",
       "<text text-anchor=\"start\" x=\"71.9644\" y=\"-141.8\" font-family=\"Helvetica,sans-Serif\" font-size=\"14.00\" fill=\"#000000\">samples = 117</text>\n",
       "<text text-anchor=\"start\" x=\"69.623\" y=\"-127.8\" font-family=\"Helvetica,sans-Serif\" font-size=\"14.00\" fill=\"#000000\">value = [117, 0]</text>\n",
       "<text text-anchor=\"start\" x=\"89.3516\" y=\"-113.8\" font-family=\"Helvetica,sans-Serif\" font-size=\"14.00\" fill=\"#000000\">class = 1</text>\n",
       "</g>\n",
       "<!-- 2&#45;&gt;3 -->\n",
       "<g id=\"edge3\" class=\"edge\">\n",
       "<title>2&#45;&gt;3</title>\n",
       "<path fill=\"none\" stroke=\"#000000\" d=\"M157.1777,-213.7677C151.362,-202.8991 145.034,-191.0729 139.163,-180.1009\"/>\n",
       "<polygon fill=\"#000000\" stroke=\"#000000\" points=\"142.1642,-178.291 134.3602,-171.1252 135.9922,-181.5936 142.1642,-178.291\"/>\n",
       "</g>\n",
       "<!-- 4 -->\n",
       "<g id=\"node5\" class=\"node\">\n",
       "<title>4</title>\n",
       "<path fill=\"#e58139\" fill-opacity=\"0.800000\" stroke=\"#000000\" d=\"M275.2261,-178C275.2261,-178 203.1147,-178 203.1147,-178 197.1147,-178 191.1147,-172 191.1147,-166 191.1147,-166 191.1147,-112 191.1147,-112 191.1147,-106 197.1147,-100 203.1147,-100 203.1147,-100 275.2261,-100 275.2261,-100 281.2261,-100 287.2261,-106 287.2261,-112 287.2261,-112 287.2261,-166 287.2261,-166 287.2261,-172 281.2261,-178 275.2261,-178\"/>\n",
       "<text text-anchor=\"start\" x=\"202.769\" y=\"-162.8\" font-family=\"Helvetica,sans-Serif\" font-size=\"14.00\" fill=\"#000000\">nAcc ≤ 11.5</text>\n",
       "<text text-anchor=\"start\" x=\"202.7793\" y=\"-148.8\" font-family=\"Helvetica,sans-Serif\" font-size=\"14.00\" fill=\"#000000\">gini = 0.278</text>\n",
       "<text text-anchor=\"start\" x=\"201.2344\" y=\"-134.8\" font-family=\"Helvetica,sans-Serif\" font-size=\"14.00\" fill=\"#000000\">samples = 6</text>\n",
       "<text text-anchor=\"start\" x=\"198.8931\" y=\"-120.8\" font-family=\"Helvetica,sans-Serif\" font-size=\"14.00\" fill=\"#000000\">value = [5, 1]</text>\n",
       "<text text-anchor=\"start\" x=\"211.3516\" y=\"-106.8\" font-family=\"Helvetica,sans-Serif\" font-size=\"14.00\" fill=\"#000000\">class = 1</text>\n",
       "</g>\n",
       "<!-- 2&#45;&gt;4 -->\n",
       "<g id=\"edge4\" class=\"edge\">\n",
       "<title>2&#45;&gt;4</title>\n",
       "<path fill=\"none\" stroke=\"#000000\" d=\"M199.1631,-213.7677C203.7161,-205.259 208.583,-196.1634 213.2988,-187.3502\"/>\n",
       "<polygon fill=\"#000000\" stroke=\"#000000\" points=\"216.507,-188.773 218.139,-178.3046 210.335,-185.4705 216.507,-188.773\"/>\n",
       "</g>\n",
       "<!-- 5 -->\n",
       "<g id=\"node6\" class=\"node\">\n",
       "<title>5</title>\n",
       "<path fill=\"#e58139\" stroke=\"#000000\" d=\"M217.2261,-64C217.2261,-64 145.1147,-64 145.1147,-64 139.1147,-64 133.1147,-58 133.1147,-52 133.1147,-52 133.1147,-12 133.1147,-12 133.1147,-6 139.1147,0 145.1147,0 145.1147,0 217.2261,0 217.2261,0 223.2261,0 229.2261,-6 229.2261,-12 229.2261,-12 229.2261,-52 229.2261,-52 229.2261,-58 223.2261,-64 217.2261,-64\"/>\n",
       "<text text-anchor=\"start\" x=\"152.5654\" y=\"-48.8\" font-family=\"Helvetica,sans-Serif\" font-size=\"14.00\" fill=\"#000000\">gini = 0.0</text>\n",
       "<text text-anchor=\"start\" x=\"143.2344\" y=\"-34.8\" font-family=\"Helvetica,sans-Serif\" font-size=\"14.00\" fill=\"#000000\">samples = 5</text>\n",
       "<text text-anchor=\"start\" x=\"140.8931\" y=\"-20.8\" font-family=\"Helvetica,sans-Serif\" font-size=\"14.00\" fill=\"#000000\">value = [5, 0]</text>\n",
       "<text text-anchor=\"start\" x=\"153.3516\" y=\"-6.8\" font-family=\"Helvetica,sans-Serif\" font-size=\"14.00\" fill=\"#000000\">class = 1</text>\n",
       "</g>\n",
       "<!-- 4&#45;&gt;5 -->\n",
       "<g id=\"edge5\" class=\"edge\">\n",
       "<title>4&#45;&gt;5</title>\n",
       "<path fill=\"none\" stroke=\"#000000\" d=\"M217.9027,-99.7647C213.1996,-91.0884 208.2039,-81.8721 203.4614,-73.123\"/>\n",
       "<polygon fill=\"#000000\" stroke=\"#000000\" points=\"206.4763,-71.3404 198.6338,-64.2169 200.3223,-74.6763 206.4763,-71.3404\"/>\n",
       "</g>\n",
       "<!-- 6 -->\n",
       "<g id=\"node7\" class=\"node\">\n",
       "<title>6</title>\n",
       "<path fill=\"#399de5\" stroke=\"#000000\" d=\"M332.2261,-64C332.2261,-64 260.1147,-64 260.1147,-64 254.1147,-64 248.1147,-58 248.1147,-52 248.1147,-52 248.1147,-12 248.1147,-12 248.1147,-6 254.1147,0 260.1147,0 260.1147,0 332.2261,0 332.2261,0 338.2261,0 344.2261,-6 344.2261,-12 344.2261,-12 344.2261,-52 344.2261,-52 344.2261,-58 338.2261,-64 332.2261,-64\"/>\n",
       "<text text-anchor=\"start\" x=\"267.5654\" y=\"-48.8\" font-family=\"Helvetica,sans-Serif\" font-size=\"14.00\" fill=\"#000000\">gini = 0.0</text>\n",
       "<text text-anchor=\"start\" x=\"258.2344\" y=\"-34.8\" font-family=\"Helvetica,sans-Serif\" font-size=\"14.00\" fill=\"#000000\">samples = 1</text>\n",
       "<text text-anchor=\"start\" x=\"255.8931\" y=\"-20.8\" font-family=\"Helvetica,sans-Serif\" font-size=\"14.00\" fill=\"#000000\">value = [0, 1]</text>\n",
       "<text text-anchor=\"start\" x=\"268.3516\" y=\"-6.8\" font-family=\"Helvetica,sans-Serif\" font-size=\"14.00\" fill=\"#000000\">class = 2</text>\n",
       "</g>\n",
       "<!-- 4&#45;&gt;6 -->\n",
       "<g id=\"edge6\" class=\"edge\">\n",
       "<title>4&#45;&gt;6</title>\n",
       "<path fill=\"none\" stroke=\"#000000\" d=\"M260.0714,-99.7647C264.6934,-91.0884 269.6031,-81.8721 274.2638,-73.123\"/>\n",
       "<polygon fill=\"#000000\" stroke=\"#000000\" points=\"277.3955,-74.6883 279.0081,-64.2169 271.2175,-71.3971 277.3955,-74.6883\"/>\n",
       "</g>\n",
       "</g>\n",
       "</svg>\n"
      ],
      "text/plain": [
       "<graphviz.files.Source at 0x10fcd4898>"
      ]
     },
     "execution_count": 21,
     "metadata": {},
     "output_type": "execute_result"
    }
   ],
   "source": [
    "DecTree = DecisionTreeClassifier()\n",
    "DecTree.fit(X_train,Y_train)\n",
    "P=DecTree.predict(X_test)\n",
    "print(DecTree.score(X_test,Y_test))\n",
    "\n",
    "dot=tree.export_graphviz(DecTree, out_file=None,\n",
    "    feature_names=X_train.columns,\n",
    "    class_names=\"12\",\n",
    "    filled=True, rounded=True,\n",
    "    special_characters=True)\n",
    "\n",
    "graph=graphviz.Source(dot)\n",
    "graph"
   ]
  },
  {
   "cell_type": "code",
   "execution_count": 29,
   "metadata": {},
   "outputs": [
    {
     "data": {
      "image/png": "[encoded data removed]",
      "text/plain": [
       "<matplotlib.figure.Figure at 0x110dbff60>"
      ]
     },
     "metadata": {},
     "output_type": "display_data"
    }
   ],
   "source": [
    "HierModel =linkage(X_train,'ward')\n",
    "\n",
    "# calculate full dendrogram\n",
    "plt.figure(figsize=(25, 10))\n",
    "plt.title('Hierarchical Clustering Dendrogram')\n",
    "plt.xlabel('sample index')\n",
    "plt.ylabel('distance')\n",
    "dendrogram(\n",
    "    HierModel,\n",
    "    truncate_mode='lastp',  # show only the last p merged clusters\n",
    "    p=6,\n",
    "    leaf_rotation=90.,  # rotates the x axis labels\n",
    "    leaf_font_size=8.,  # font size for the x axis labels\n",
    ")\n",
    "plt.show()\n"
   ]
  },
  {
   "cell_type": "code",
   "execution_count": 17,
   "metadata": {},
   "outputs": [
    {
     "data": {
      "image/png": "[encoded data removed]",
      "text/plain": [
       "<matplotlib.figure.Figure at 0x10f2c33c8>"
      ]
     },
     "metadata": {},
     "output_type": "display_data"
    }
   ],
   "source": [
    "#Use wfdb library to plot records\n",
    "wfdb.plotrec(record)"
   ]
  },
  {
   "cell_type": "code",
   "execution_count": null,
   "metadata": {},
   "outputs": [],
   "source": [
    "#Print and Gather some useful record characteristics\n",
    "#View sampling frequency\n",
    "print (record.fs)\n",
    "#FHR Signal Length\n",
    "#First column of p_signals is FHR\n",
    "siglen = len(record.p_signals[:,0])\n",
    "print(siglen)\n",
    "#std = np.std(a[:,0])\n",
    "#print(std)\n",
    "#a = np.mean(a[np.nonzero(a[:,0])])\n",
    "#print(a)\n",
    "\n",
    "headerInfo=record.comments\n",
    "#Isolate pH\n",
    "pHstring = headerInfo[2]\n",
    "pHmatch=re.search('pH\\s*(\\d+.\\d+)',pHstring)\n",
    "pHmatch2= re.search('pH\\s*(\\d+)',pHstring)\n",
    "if pHmatch:\n",
    "    pH = float(pHmatch.group(1))\n",
    "if pHmatch2:\n",
    "    ph = float(pHmatch2.group(1))\n",
    "    print(ph)\n",
    "print(\"ph found:\",ph)\n",
    "\n",
    "#Pos stage II- This is position in raw signal sample not an index of an array\n",
    "posStage2String = headerInfo[40]\n",
    "posStage2 = re.search('Pos. II.st.\\s*(\\d+)',posStage2String)\n",
    "if posStage2:\n",
    "    posStage2 = int(posStage2.group(1))\n",
    "print(\"Position of Stage II is:\",posStage2)\n",
    "\n",
    "#Delivery Type\n",
    "delTypeString = headerInfo[36]\n",
    "delType = re.search('Deliv. type\\s*(\\d+)',delTypeString)\n",
    "if delType:\n",
    "    delType = int(delType.group(1))\n",
    "print(\"Delivery Type is\",delType)"
   ]
  },
  {
   "cell_type": "code",
   "execution_count": null,
   "metadata": {},
   "outputs": [],
   "source": [
    "#Separate Stage I Signal\n",
    "Stage1Sig = record.p_signals[0:posStage2,0]\n",
    "Stage1len = len(Stage1Sig)\n",
    "#print(\"Length of Stage I is: \",Stage1len,\" datapoints and \", Stage1len)/4, \" sec\")))\n",
    "print(\"Length of Stage I is: %d datapoints and %.2f seconds\" % (Stage1len,Stage1len/4))\n",
    "#Separate Stage II Signal\n",
    "Stage2Sig = record.p_signals[posStage2:,0]\n",
    "Stage2len = len(Stage2Sig)\n",
    "print(\"Length of Stage 2 is: %d datapoints and %.2f seconds\" % (Stage2len,Stage2len/4))"
   ]
  },
  {
   "cell_type": "code",
   "execution_count": null,
   "metadata": {},
   "outputs": [],
   "source": [
    "#Set Time Length to remove samples from beginning or end of sample\n",
    "#This is time potentially confounding signal if equipment just started/ended acquisition\n",
    "\n",
    "#Define Excluded Time-Frame in seconds and number of samples\n",
    "excTimeFrameSecs = 150\n",
    "excTimeFrameSamp = 150*4\n",
    "#Compress by removing zero elements from each when a signal was not able to be acquired\n",
    "Stage1SigTrim = Stage1Sig[excTimeFrameSamp:]\n",
    "print(\"Stage I trimmed length is: %d datapoints and %.2f seconds\" % (len(Stage1SigTrim),len(Stage1SigTrim)/4))\n",
    "Stage2SigTrim = Stage2Sig[0:Stage2len-excTimeFrameSamp]\n",
    "print(\"Stage II trimmed length is: %d datapoints and %.2f seconds\" % (len(Stage2SigTrim),len(Stage2SigTrim)/4))\n",
    "\n",
    "#Compress each Signal by removing zero elements\n",
    "Stage1SigComp = Stage1SigTrim[np.nonzero(Stage1SigTrim)]\n",
    "Stage2SigComp = Stage2SigTrim[np.nonzero(Stage2SigTrim)]\n",
    "print(\"Stage I Compressed length is: %d datapoints and %.2f seconds\" % (len(Stage1SigComp),len(Stage1SigComp)/4))\n",
    "print(\"Stage II Compressed length is: %d datapoints and %.2f seconds\" % (len(Stage2SigComp),len(Stage2SigComp)/4))\n",
    "\n"
   ]
  },
  {
   "cell_type": "code",
   "execution_count": null,
   "metadata": {},
   "outputs": [],
   "source": [
    "Stage1FHRMean = np.mean(Stage1SigComp)\n",
    "Stage1HRV = np.std(Stage1SigComp)\n",
    "Stage2FHRMean = np.mean(Stage2SigComp)\n",
    "Stage2HRV = np.std(Stage2SigComp)\n",
    "\n",
    "print(\"Stage I Compressed Signal Mean: %.2f and HRV: %.2f\" % (Stage1FHRMean,Stage1HRV))\n",
    "print(\"Stage 2 Compressed Signal Mean: %.2f and HRV: %.2f\" % (Stage2FHRMean,Stage2HRV))\n"
   ]
  },
  {
   "cell_type": "code",
   "execution_count": null,
   "metadata": {},
   "outputs": [],
   "source": [
    "#Acceleration Detection Stage I\n",
    "\n",
    "#Calculation of acceleration minimum detection time in number of samples\n",
    "minAccDur = 15 #seconds\n",
    "minAccSamp = minAccDur*record.fs\n",
    "print(minAccSamp)\n",
    "\n",
    "count = 0\n",
    "prevCheck = 0\n",
    "nAcc = 0\n",
    "for i in range(len(Stage1SigComp)):\n",
    "    if Stage1SigComp[i] > (Stage1FHRMean+15):\n",
    "        count=count+1\n",
    "    #    print(count)\n",
    "    else:\n",
    "        if (count > minAccSamp):\n",
    "#            print(\"YES\")\n",
    "            nAcc = nAcc+1\n",
    "        count = 0       \n",
    "\n",
    "print(nAcc)\n",
    "\n"
   ]
  },
  {
   "cell_type": "code",
   "execution_count": null,
   "metadata": {},
   "outputs": [],
   "source": [
    "#Acceleration Detection Stage II\n",
    "\n",
    "#Calculation of acceleration minimum detection time in number of samples\n",
    "minAccDur = 15 #seconds\n",
    "minAccSamp = minAccDur*record.fs\n",
    "print(minAccSamp)\n",
    "\n",
    "count = 0\n",
    "prevCheck = 0\n",
    "nAcc = 0\n",
    "for i in range(len(Stage2SigComp)):\n",
    "    if Stage2SigComp[i] > (Stage2FHRMean+15):\n",
    "        count=count+1\n",
    "    #    print(count)\n",
    "    else:\n",
    "        if (count > minAccSamp):\n",
    "#            print(\"YES\")\n",
    "            nAcc = nAcc+1\n",
    "        count = 0       \n",
    "\n",
    "print(nAcc)"
   ]
  },
  {
   "cell_type": "code",
   "execution_count": null,
   "metadata": {},
   "outputs": [],
   "source": [
    "#Decelerations Detection Stage I\n",
    "\n",
    "#Calculation of acceleration minimum detection time in number of samples\n",
    "minAccDur = 15 #seconds\n",
    "minAccSamp = minAccDur*record.fs\n",
    "print(minAccSamp)\n",
    "\n",
    "count = 0\n",
    "prevCheck = 0\n",
    "nDec = 0\n",
    "for i in range(len(Stage1SigComp)):\n",
    "    if Stage1SigComp[i] < (Stage1FHRMean-15):\n",
    "        count=count+1\n",
    "    #    print(count)\n",
    "    else:\n",
    "        if (count > minAccSamp):\n",
    "#            print(\"YES\")\n",
    "            nDec = nDec+1\n",
    "        count = 0       \n",
    "\n",
    "print(nDec)"
   ]
  },
  {
   "cell_type": "code",
   "execution_count": null,
   "metadata": {},
   "outputs": [],
   "source": [
    "#Decelerations Detection Stage II\n",
    "\n",
    "#Calculation of acceleration minimum detection time in number of samples\n",
    "minAccDur = 15 #seconds\n",
    "minAccSamp = minAccDur*record.fs\n",
    "print(minAccSamp)\n",
    "\n",
    "count = 0\n",
    "prevCheck = 0\n",
    "nDec = 0\n",
    "for i in range(len(Stage2SigComp)):\n",
    "    if Stage2SigComp[i] < (Stage2FHRMean+15):\n",
    "        count=count+1\n",
    "    #    print(count)\n",
    "    else:\n",
    "        if (count > minAccSamp):\n",
    "#            print(\"YES\")\n",
    "            nDec = nDec+1\n",
    "        count = 0       \n",
    "\n",
    "print(nDec)"
   ]
  },
  {
   "cell_type": "code",
   "execution_count": null,
   "metadata": {},
   "outputs": [],
   "source": [
    "Fs = record.fs  # sampling rate\n",
    "Ts = 1.0/Fs # sampling interval\n",
    "n = len(Stage1SigComp) # length of the signal\n",
    "t = np.arange(0,n) # time vector\n",
    "k = np.arange(n)\n",
    "T = n/Fs\n",
    "frq = k/T # two sides frequency range\n",
    "frq = frq[range(int(n/2))] # one side frequency range\n",
    "Y = np.fft.fft(Stage1SigComp-Stage1FHRMean)/n # fft computing and normalization\n",
    "Y = abs(Y[range(int(n/2))])\n",
    "P = np.power(Y,Y)\n",
    "\n",
    "fig, ax = plt.subplots(2, 1)\n",
    "ax[0].plot(t,Stage1SigComp)\n",
    "ax[0].set_xlabel('Time')\n",
    "ax[0].set_ylabel('Amplitude')\n",
    "ax[1].plot(frq[1:],P[1:],'r') # plotting the spectrum\n",
    "ax[1].set_xlabel('Freq (Hz)')\n",
    "ax[1].set_ylabel('|Y(freq)|^2')\n",
    "\n",
    "#plt.plot(frq,Y)\n",
    "\n",
    "print(frq)\n",
    "\n",
    "VLFindex = np.argmax(frq>=0.03)\n",
    "print(VLFindex,frq[VLFindex])\n",
    "EnVLF = np.sum(P[0:VLFindex])\n",
    "\n",
    "LFindex = np.argmax(frq>=0.15)\n",
    "print(LFindex, frq[LFindex])\n",
    "EnLF = np.sum(P[VLFindex:LFindex])\n",
    "\n",
    "#HFindex = len(frq)\n",
    "HFindex = np.argmax(frq>=0.5)\n",
    "print(HFindex,frq[HFindex])\n",
    "EnHF = np.sum(P[LFindex:HFindex])\n",
    "\n",
    "print(frq[HFindex-1])\n",
    "print(EnVLF,EnLF,EnHF)"
   ]
  },
  {
   "cell_type": "code",
   "execution_count": null,
   "metadata": {
    "collapsed": true
   },
   "outputs": [],
   "source": []
  },
  {
   "cell_type": "code",
   "execution_count": null,
   "metadata": {},
   "outputs": [],
   "source": [
    "Fs = record.fs  # sampling rate\n",
    "Ts = 1.0/Fs # sampling interval\n",
    "n = len(Stage2SigComp) # length of the signal\n",
    "t = np.arange(0,n) # time vector\n",
    "k = np.arange(n)\n",
    "T = n/Fs\n",
    "frq = k/T # two sides frequency range\n",
    "frq = frq[range(int(n/2))] # one side frequency range\n",
    "Y = np.fft.fft(Stage2SigComp-Stage2FHRMean)/n # fft computing and normalization\n",
    "Y = Y[range(int(n/2))]\n",
    "fig, ax = plt.subplots(2, 1)\n",
    "ax[0].plot(t,Stage2SigComp)\n",
    "ax[0].set_xlabel('Time')\n",
    "ax[0].set_ylabel('Amplitude')\n",
    "ax[1].plot(frq,abs(np.power(Y,Y)),'r') # plotting the spectrum\n",
    "ax[1].set_xlabel('Freq (Hz)')\n",
    "ax[1].set_ylabel('|Y(freq)|')\n",
    "\n",
    "#plt.plot(frq,Y)\n",
    "\n",
    "VLFindex = np.argmax(frq>=0.03)\n",
    "print(VLFindex,frq[VLFindex])\n",
    "EnVLF = np.sum(P[0:VLFindex])\n",
    "\n",
    "LFindex = np.argmax(frq>=0.15)\n",
    "print(LFindex, frq[LFindex])\n",
    "EnLF = np.sum(P[VLFindex:LFindex])\n",
    "\n",
    "#HFindex = len(frq)\n",
    "HFindex = np.argmax(frq>=0.5)\n",
    "print(HFindex,frq[HFindex])\n",
    "EnHF = np.sum(P[LFindex:HFindex])\n",
    "\n",
    "print(frq[HFindex-1])\n",
    "print(EnVLF,EnLF,EnHF)"
   ]
  },
  {
   "cell_type": "code",
   "execution_count": null,
   "metadata": {
    "collapsed": true
   },
   "outputs": [],
   "source": []
  },
  {
   "cell_type": "code",
   "execution_count": null,
   "metadata": {},
   "outputs": [],
   "source": [
    "#List Signal Length\n",
    "print (record.siglen)\n",
    "#List record comment\n",
    "print (record.comments)"
   ]
  },
  {
   "cell_type": "code",
   "execution_count": null,
   "metadata": {
    "collapsed": true
   },
   "outputs": [],
   "source": [
    "#Alternate way of loading a record\n",
    "#Output signal as a numpy array, and a dictionary of fields describing signal\n",
    "sig, fields = wfdb.srdsamp(path + '/1003')"
   ]
  },
  {
   "cell_type": "code",
   "execution_count": null,
   "metadata": {
    "collapsed": true
   },
   "outputs": [],
   "source": [
    "#view length of FHR signal\n",
    "len(sig)"
   ]
  },
  {
   "cell_type": "code",
   "execution_count": null,
   "metadata": {
    "collapsed": true
   },
   "outputs": [],
   "source": [
    "#view dictionary\n",
    "fields"
   ]
  },
  {
   "cell_type": "code",
   "execution_count": null,
   "metadata": {
    "collapsed": true
   },
   "outputs": [],
   "source": [
    "#view the sampling frequency field\n",
    "fields['fs']"
   ]
  }
 ],
 "metadata": {
  "kernelspec": {
   "display_name": "fetal_heart_rate",
   "language": "python",
   "name": "fetal_heart_rate"
  },
  "language_info": {
   "codemirror_mode": {
    "name": "ipython",
    "version": 3
   },
   "file_extension": ".py",
   "mimetype": "text/x-python",
   "name": "python",
   "nbconvert_exporter": "python",
   "pygments_lexer": "ipython3",
   "version": "3.6.2"
  }
 },
 "nbformat": 4,
 "nbformat_minor": 2
}
