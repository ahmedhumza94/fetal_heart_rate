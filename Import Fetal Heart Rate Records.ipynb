{
 "cells": [
  {
   "cell_type": "markdown",
   "metadata": {},
   "source": [
    "## Import CTH-UHB Intrapartum CTG Records\n",
    "\n",
    "This notebook provides an example of importing a FHR and UC record from the open CTH-UHB Intrapartum database on PhysioNet. "
   ]
  },
  {
   "cell_type": "code",
   "execution_count": 67,
   "metadata": {},
   "outputs": [],
   "source": [
    "#Import the waveform database library\n",
    "import wfdb\n",
    "import numpy as np\n",
    "import re\n",
    "np.set_printoptions(threshold=1000)\n"
   ]
  },
  {
   "cell_type": "code",
   "execution_count": 41,
   "metadata": {
    "collapsed": true
   },
   "outputs": [],
   "source": [
    "#Load Physionet databases recognized by the library\n",
    "dblist = wfdb.getdblist()"
   ]
  },
  {
   "cell_type": "code",
   "execution_count": 5,
   "metadata": {},
   "outputs": [
    {
     "name": "stdout",
     "output_type": "stream",
     "text": [
      "[['adfecgdb', 'Abdominal and Direct Fetal ECG Database'], ['aftdb', 'AF Termination Challenge Database'], ['ahadb', 'AHA Database [sample excluded record]'], ['aami-ec13', 'ANSI/AAMI EC13 Test Waveforms'], ['apnea-ecg', 'Apnea-ECG Database'], ['chfdb', 'BIDMC Congestive Heart Failure Database'], ['bpssrat', 'Blood Pressure in Salt-Sensitive Dahl Rats'], ['capslpdb', 'CAP Sleep Database'], ['crisdb', 'CAST RR Interval Sub-Study Database'], ['challenge/2009/test-set-a', 'Challenge 2009 Test Set A'], ['challenge/2009/test-set-b', 'Challenge 2009 Test Set B'], ['challenge/2010/set-a', 'Challenge 2010 Training Set A'], ['challenge/2010/set-b', 'Challenge 2010 Test Set B'], ['challenge/2010/set-c', 'Challenge 2010 Test Set C'], ['challenge/2011/set-a', 'Challenge 2011 Training Set A'], ['challenge/2011/set-b', 'Challenge 2011 Test Set B'], ['challenge/2011/sim', 'Challenge 2011 Pilot Set'], ['challenge/2013/set-a', 'Challenge 2013 Training Set A'], ['challenge/2013/set-b', 'Challenge 2013 Test Set B'], ['challenge/2014/set-p', 'Challenge 2014 Training Set'], ['challenge/2014/set-p2', 'Challenge 2014 Extended Training Set'], ['challenge/2015/training', 'Challenge 2015 Training Set'], ['challenge/2016/training-a', 'Challenge 2016 Training Set A'], ['challenge/2016/training-b', 'Challenge 2016 Training Set B'], ['challenge/2016/training-c', 'Challenge 2016 Training Set C'], ['challenge/2016/training-d', 'Challenge 2016 Training Set D'], ['challenge/2016/training-e', 'Challenge 2016 Training Set E'], ['challenge/2016/training-f', 'Challenge 2016 Training Set F'], ['challenge/2017/training', 'Challenge 2017 Training Set'], ['charisdb', 'CHARIS database'], ['chbmit', 'CHB-MIT Scalp EEG Database'], ['cebsdb', 'Combined measurement of ECG, Breathing and Seismocardiograms'], ['chf2db', 'Congestive Heart Failure RR Interval Database'], ['ctu-uhb-ctgdb', 'CTU-CHB Intrapartum Cardiotocography Database'], ['cudb', 'CU Ventricular Tachyarrhythmia Database'], ['ecgdmmld', 'ECG Effects of Dofetilide, Moxifloxacin, Dofetilide+Mexiletine, Dofetilide+Lidocaine and Moxifloxacin+Diltiazem'], ['ecgrdvq', 'ECG Effects of Ranolazine, Dofetilide, Verapamil, and Quinidine'], ['ecgiddb', 'ECG-ID Database'], ['eegmmidb', 'EEG Motor Movement/Imagery Dataset'], ['ltrsvp', 'EEG Signals from an RSVP Task'], ['erpbci', 'ERP-based Brain-Computer Interface recordings'], ['edb', 'European ST-T Database'], ['earh', 'Evoked Auditory Responses in Heading Impaired'], ['earndb', 'Evoked Auditory Responses in Normals'], ['emgdb', 'Examples of Electromyograms'], ['fantasia', 'Fantasia Database'], ['fecgsyndb', 'Fetal ECG Synthetic Database'], ['fpcgdb', 'Fetal PCG Database'], ['gait-maturation-db/data', 'Gait Maturation Database'], ['gaitdb', 'Gait in Aging and Disease Database'], ['gaitndd', 'Gait in Neurodegenerative Disease Database'], ['meditation/data', 'Heart Rate Oscillations during Meditation'], ['hbedb', 'Human Balance Evaluation Database'], ['ehgdb', 'Icelandic 16-electrode Electrohysterogram Database'], ['iafdb', 'Intracardiac Atrial Fibrillation Database'], ['ltafdb', 'Long Term AF Database'], ['ltstdb', 'Long Term ST Database'], ['mssvepdb', 'MAMEM SSVEP Database'], ['mghdb', 'MGH/MF Waveform Database'], ['mimic2cdb', 'MIMIC II Clinical Database Public Subset'], ['mimic2wdb/30', 'MIMIC II/III Waveform Database, part 0'], ['mimic2wdb/31', 'MIMIC II/III Waveform Database, part 1'], ['mimic2wdb/32', 'MIMIC II/III Waveform Database, part 2'], ['mimic2wdb/33', 'MIMIC II/III Waveform Database, part 3'], ['mimic2wdb/34', 'MIMIC II/III Waveform Database, part 4'], ['mimic2wdb/35', 'MIMIC II/III Waveform Database, part 5'], ['mimic2wdb/36', 'MIMIC II/III Waveform Database, part 6'], ['mimic2wdb/37', 'MIMIC II/III Waveform Database, part 7'], ['mimic2wdb/38', 'MIMIC II/III Waveform Database, part 8'], ['mimic2wdb/39', 'MIMIC II/III Waveform Database, part 9'], ['mimic2wdb/matched', 'MIMIC II Waveform Database Matched Subset'], ['mimic3wdb/matched', 'MIMIC III Waveform Database Matched Subset'], ['mimicdb', 'MIMIC Database'], ['mimicdb/numerics', 'MIMIC Database Numerics'], ['mitdb', 'MIT-BIH Arrhythmia Database'], ['pwave', 'MIT-BIH Arrhythmia Database P-Wave Annotations'], ['afdb', 'MIT-BIH Atrial Fibrillation Database'], ['cdb', 'MIT-BIH ECG Compression Test Database'], ['ltdb', 'MIT-BIH Long-Term ECG Database'], ['vfdb', 'MIT-BIH Malignant Ventricular Ectopy Database'], ['nstdb', 'MIT-BIH Noise Stress Test Database'], ['nsrdb', 'MIT-BIH Normal Sinus Rhythm Database'], ['excluded', '... [Recordings excluded from the NSR DB]'], ['slpdb', 'MIT-BIH Polysomnographic Database'], ['stdb', 'MIT-BIH ST Change Database'], ['svdb', 'MIT-BIH Supraventricular Arrhythmia Database'], ['mmgdb', 'MMG Database'], ['macecgdb', 'Motion Artifact Contaminated ECG Database'], ['motion-artifact', 'Motion Artifact Contaminated fNIRS and EEG Data'], ['noneeg', 'Non-EEG Dataset for Assessment of Neurological Status'], ['nifecgdb', 'Non-Invasive Fetal ECG Database'], ['nsr2db', 'Normal Sinus Rhythm RR Interval Database'], ['ob1db', 'OB-1 Fetal ECG Database [sample record]'], ['afpdb', 'PAF Prediction Challenge Database'], ['osv', 'Pattern Analysis of Oxygen Saturation Variability'], ['prcp', 'Physiologic Response to Changes in Posture'], ['szdb', 'Post-Ictal Heart Rate Oscillations in Partial Epilepsy'], ['picsdb', 'Preterm Infant Cardio-Respiratory Signals Database'], ['ptbdb', 'PTB Diagnostic ECG Database'], ['qtdb', 'QT Database'], ['sufhsdb', 'Shiraz University Fetal Heart Sounds Database'], ['simfpcgdb', 'Simulated Fetal Phonocardiograms'], ['shhpsgdb', 'Sleep Heart Health Study PSG Database [sample record]'], ['sleepbrl', 'Sleep Bioradiolocation Database'], ['sleep-edfx', 'Sleep-EDF Database [Expanded]'], ['shareedb', 'Smart Health for Assessing the Risk of Events via ECG Database'], ['mvtdb/data', 'Spontaneous Ventricular Tachyarrhythmia Database'], ['sgamp', 'Squid Giant Axon Membrane Potential'], ['incartdb', 'St Petersburg INCART 12-lead Arrhythmia Database'], ['staffiii', 'STAFF III Database'], ['drivedb', 'Stress Recognition in Automobile Drivers'], ['sddb', 'Sudden Cardiac Death Holter Database'], ['twadb', 'T-Wave Alternans Challenge Database'], ['taichidb', 'Tai Chi, Physiological Complexity, and Healthy Aging - Gait'], ['tpehgdb', 'Term-Preterm EHG Database'], ['ucddb', 'UCD Sleep Apnea Database'], ['unicaprop', 'UniCA ElectroTastegram Database (PROP)'], ['videopulse', 'Video Pulse Signals in Stationary and Motion Conditions'], ['wrist', 'Wrist PPG During Exercise'], ['mimic2db', 'MIMIC II Waveform DB, v2 [deprecated, use v3]'], ['mimic2db/numerics', 'MIMIC II Waveform DB, v2 Numerics [deprecated, use v3]'], ['sleep-edf', 'Sleep-EDF Database, v1 [deprecated, use sleep-edfx]']]\n"
     ]
    }
   ],
   "source": [
    "#Print List of databases\n",
    "print (dblist)"
   ]
  },
  {
   "cell_type": "code",
   "execution_count": 7,
   "metadata": {
    "scrolled": true
   },
   "outputs": [
    {
     "name": "stdout",
     "output_type": "stream",
     "text": [
      "Downloading files...\n",
      "Finished downloading files\n"
     ]
    }
   ],
   "source": [
    "#Download the desired database to a local directory\n",
    "wfdb.dldatabase('ctu-uhb-ctgdb', '/Users/humza/Google Drive/nanodegree/machine-learning-master/projects/capstone/fetal_heart_rate/RawData', records = 'all', annotators = 'all',\n",
    "           keepsubdirs = True, overwrite = False)\n"
   ]
  },
  {
   "cell_type": "code",
   "execution_count": 3,
   "metadata": {
    "collapsed": true
   },
   "outputs": [],
   "source": [
    "#Set path to downloaded data\n",
    "path = '/Users/humza/Google Drive/nanodegree/machine-learning-master/projects/capstone/fetal_heart_rate/RawData'"
   ]
  },
  {
   "cell_type": "code",
   "execution_count": 6,
   "metadata": {
    "collapsed": true
   },
   "outputs": [],
   "source": [
    "#Create a record object by reading one subjects data\n",
    "record = wfdb.rdsamp(path + '/1003', sampfrom=0, sampto=None, channels=None,\n",
    "                physical=True, pbdir = None, m2s=True)\n"
   ]
  },
  {
   "cell_type": "code",
   "execution_count": 95,
   "metadata": {},
   "outputs": [
    {
     "name": "stdout",
     "output_type": "stream",
     "text": [
      "4\n",
      "18000\n",
      "[[ 137.5    0. ]\n",
      " [ 137.5    0. ]\n",
      " [ 137.5    0. ]\n",
      " ..., \n",
      " [   0.     0. ]\n",
      " [   0.     0. ]\n",
      " [   0.     0. ]]\n",
      "70.1790642029\n",
      "['----- Additional parameters for record 1003', '-- Outcome measures', 'pH           7.2', 'BDecf        3.03', 'pCO2         8.3', 'BE           -5.6', 'Apgar1       7', 'Apgar5       9', '-- !NotReadyYet! Neonatology outcome measures !NotReadyYet!', 'NICU days    0', 'Seizures     0', 'HIE          0', 'Intubation   0', 'Main diag.   0', 'Other diag.  0', '-- Fetus/Neonate descriptors', 'Gest. weeks  40', 'Weight(g)    3770', 'Sex          1', '-- Maternal (risk-)factors', 'Age          31', 'Gravidity    1', 'Parity       0', 'Diabetes     0', 'Hypertension 0', 'Preeclampsia 0', 'Liq. praecox 1', 'Pyrexia      0', 'Meconium     0', '-- Delivery descriptors', 'Presentation 1', 'Induced      1', 'I.stage      215', 'NoProgress   0', 'CK/KP        0', 'II.stage     15', 'Deliv. type  1', '-- Signal information', 'dbID         982315', 'Rec. type    1', 'Pos. II.st.  14400', 'Sig2Birth    0']\n",
      "7.2\n",
      "14400\n",
      "1\n"
     ]
    }
   ],
   "source": [
    "#View sampling frequency\n",
    "print (record.fs)\n",
    "#FHR Signal array\n",
    "a = record.p_signals\n",
    "print(len(a[:,0]))\n",
    "print(a)\n",
    "a = np.mean(a[np.nonzero(a[:,0])])\n",
    "print(a)\n",
    "b=record.comments\n",
    "print(b)\n",
    "c = b[2]\n",
    "#Isolate pH\n",
    "d=re.search('pH\\s*(\\d+.\\d+)',c)\n",
    "print (d.group(1))\n",
    "#Pos stage II\n",
    "e = re.search('Pos. II.st.\\s*(\\d+)',b[40])\n",
    "print(e.group(1))\n",
    "#Delivery Type\n",
    "f=re.search('Deliv. type\\s*(\\d+)',b[36])\n",
    "print(f.group(1))"
   ]
  },
  {
   "cell_type": "code",
   "execution_count": 75,
   "metadata": {},
   "outputs": [
    {
     "data": {
      "image/png": "[encoded data removed]",
      "text/plain": [
       "<matplotlib.figure.Figure at 0x11bccd940>"
      ]
     },
     "metadata": {},
     "output_type": "display_data"
    }
   ],
   "source": [
    "#Use wfdb library to plot records\n",
    "wfdb.plotrec(record)"
   ]
  },
  {
   "cell_type": "code",
   "execution_count": null,
   "metadata": {
    "collapsed": true
   },
   "outputs": [],
   "source": []
  },
  {
   "cell_type": "code",
   "execution_count": 33,
   "metadata": {},
   "outputs": [
    {
     "name": "stdout",
     "output_type": "stream",
     "text": [
      "18000\n",
      "['----- Additional parameters for record 1003', '-- Outcome measures', 'pH           7.2', 'BDecf        3.03', 'pCO2         8.3', 'BE           -5.6', 'Apgar1       7', 'Apgar5       9', '-- !NotReadyYet! Neonatology outcome measures !NotReadyYet!', 'NICU days    0', 'Seizures     0', 'HIE          0', 'Intubation   0', 'Main diag.   0', 'Other diag.  0', '-- Fetus/Neonate descriptors', 'Gest. weeks  40', 'Weight(g)    3770', 'Sex          1', '-- Maternal (risk-)factors', 'Age          31', 'Gravidity    1', 'Parity       0', 'Diabetes     0', 'Hypertension 0', 'Preeclampsia 0', 'Liq. praecox 1', 'Pyrexia      0', 'Meconium     0', '-- Delivery descriptors', 'Presentation 1', 'Induced      1', 'I.stage      215', 'NoProgress   0', 'CK/KP        0', 'II.stage     15', 'Deliv. type  1', '-- Signal information', 'dbID         982315', 'Rec. type    1', 'Pos. II.st.  14400', 'Sig2Birth    0']\n"
     ]
    }
   ],
   "source": [
    "#List Signal Length\n",
    "print (record.siglen)\n",
    "#List record comments\n",
    "print (record.comments)"
   ]
  },
  {
   "cell_type": "code",
   "execution_count": 23,
   "metadata": {
    "collapsed": true
   },
   "outputs": [],
   "source": [
    "#Alternate way of loading a record\n",
    "#Output signal as a numpy array, and a dictionary of fields describing signal\n",
    "sig, fields = wfdb.srdsamp(path + '/1003')"
   ]
  },
  {
   "cell_type": "code",
   "execution_count": 25,
   "metadata": {},
   "outputs": [
    {
     "data": {
      "text/plain": [
       "18000"
      ]
     },
     "execution_count": 25,
     "metadata": {},
     "output_type": "execute_result"
    }
   ],
   "source": [
    "#view length of FHR signal\n",
    "len(sig)"
   ]
  },
  {
   "cell_type": "code",
   "execution_count": 26,
   "metadata": {},
   "outputs": [
    {
     "data": {
      "text/plain": [
       "{'comments': ['----- Additional parameters for record 1003',\n",
       "  '-- Outcome measures',\n",
       "  'pH           7.2',\n",
       "  'BDecf        3.03',\n",
       "  'pCO2         8.3',\n",
       "  'BE           -5.6',\n",
       "  'Apgar1       7',\n",
       "  'Apgar5       9',\n",
       "  '-- !NotReadyYet! Neonatology outcome measures !NotReadyYet!',\n",
       "  'NICU days    0',\n",
       "  'Seizures     0',\n",
       "  'HIE          0',\n",
       "  'Intubation   0',\n",
       "  'Main diag.   0',\n",
       "  'Other diag.  0',\n",
       "  '-- Fetus/Neonate descriptors',\n",
       "  'Gest. weeks  40',\n",
       "  'Weight(g)    3770',\n",
       "  'Sex          1',\n",
       "  '-- Maternal (risk-)factors',\n",
       "  'Age          31',\n",
       "  'Gravidity    1',\n",
       "  'Parity       0',\n",
       "  'Diabetes     0',\n",
       "  'Hypertension 0',\n",
       "  'Preeclampsia 0',\n",
       "  'Liq. praecox 1',\n",
       "  'Pyrexia      0',\n",
       "  'Meconium     0',\n",
       "  '-- Delivery descriptors',\n",
       "  'Presentation 1',\n",
       "  'Induced      1',\n",
       "  'I.stage      215',\n",
       "  'NoProgress   0',\n",
       "  'CK/KP        0',\n",
       "  'II.stage     15',\n",
       "  'Deliv. type  1',\n",
       "  '-- Signal information',\n",
       "  'dbID         982315',\n",
       "  'Rec. type    1',\n",
       "  'Pos. II.st.  14400',\n",
       "  'Sig2Birth    0'],\n",
       " 'fs': 4,\n",
       " 'signame': ['FHR', 'UC'],\n",
       " 'units': ['bpm', 'nd']}"
      ]
     },
     "execution_count": 26,
     "metadata": {},
     "output_type": "execute_result"
    }
   ],
   "source": [
    "#view dictionary\n",
    "fields"
   ]
  },
  {
   "cell_type": "code",
   "execution_count": 32,
   "metadata": {},
   "outputs": [
    {
     "data": {
      "text/plain": [
       "4"
      ]
     },
     "execution_count": 32,
     "metadata": {},
     "output_type": "execute_result"
    }
   ],
   "source": [
    "#view the sampling frequency field\n",
    "fields['fs']"
   ]
  }
 ],
 "metadata": {
  "kernelspec": {
   "display_name": "fetal_heart_rate",
   "language": "python",
   "name": "fetal_heart_rate"
  },
  "language_info": {
   "codemirror_mode": {
    "name": "ipython",
    "version": 3
   },
   "file_extension": ".py",
   "mimetype": "text/x-python",
   "name": "python",
   "nbconvert_exporter": "python",
   "pygments_lexer": "ipython3",
   "version": "3.6.2"
  }
 },
 "nbformat": 4,
 "nbformat_minor": 2
}
